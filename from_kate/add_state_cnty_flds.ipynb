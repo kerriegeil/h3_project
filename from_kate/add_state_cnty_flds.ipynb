{
 "cells": [
  {
   "cell_type": "code",
   "execution_count": 7,
   "metadata": {},
   "outputs": [
    {
     "data": {
      "text/html": [
       "<div class='gpresult'><h2>Messages</h2><div id='messages' data-messages='[\"Start Time: Friday, April 12, 2024 2:43:12 PM\",\"Succeeded at Friday, April 12, 2024 2:43:14 PM (Elapsed Time: 1.25 seconds)\"]' data-show='true'><div id = 'default' /></div></div>"
      ],
      "text/plain": [
       "<Result 'K:\\\\projects\\\\rgmg\\\\MSGeoProject\\\\Projects\\\\Grid_Effort\\\\H3Grid_Inputs.gdb\\\\Temp\\\\H3_5_St_Cnty'>"
      ]
     },
     "execution_count": 7,
     "metadata": {},
     "output_type": "execute_result"
    }
   ],
   "source": [
    "# add state and county boundary fields to H3_5 grid, Spatial Join\n",
    "import arcpy\n",
    "arcpy.analysis.SpatialJoin(\n",
    "    target_features=r\"K:\\projects\\rgmg\\MSGeoProject\\Projects\\Grid_Effort\\H3Grid_Inputs.gdb\\Grid_layers\\H3_5\",\n",
    "    join_features=r\"K:\\projects\\rgmg\\MSGeoProject\\Projects\\Grid_Effort\\H3Grid_Inputs.gdb\\Inputs\\tj_2021_us_st_cnt\",\n",
    "    out_features=r\"K:\\projects\\rgmg\\MSGeoProject\\Projects\\Grid_Effort\\H3Grid_Inputs.gdb\\Temp\\H3_5_St_Cnty\",\n",
    "    join_operation=\"JOIN_ONE_TO_ONE\",\n",
    "    join_type=\"KEEP_ALL\",\n",
    "    field_mapping=r'GRID_ID \"GRID_ID\" true true false 17 Text 0 0,First,#,K:\\projects\\rgmg\\MSGeoProject\\Projects\\Grid_Effort\\H3Grid_Inputs.gdb\\Grid_layers\\H3_5,GRID_ID,0,17;STATE_FP \"STATE_FP\" true true false 2 Text 0 0,First,#,K:\\projects\\rgmg\\MSGeoProject\\Projects\\Grid_Effort\\H3Grid_Inputs.gdb\\Inputs\\tj_2021_us_st_cnt,STATE_FP,0,2;STATE_AB \"STATE_AB\" true true false 2 Text 0 0,First,#,K:\\projects\\rgmg\\MSGeoProject\\Projects\\Grid_Effort\\H3Grid_Inputs.gdb\\Inputs\\tj_2021_us_st_cnt,STATE_AB,0,2;STATE_NM \"STATE_NM\" true true false 15 Text 0 0,First,#,K:\\projects\\rgmg\\MSGeoProject\\Projects\\Grid_Effort\\H3Grid_Inputs.gdb\\Inputs\\tj_2021_us_st_cnt,STATE_NM,0,15;COUNTY_FP \"COUNTY_FP\" true true false 3 Text 0 0,First,#,K:\\projects\\rgmg\\MSGeoProject\\Projects\\Grid_Effort\\H3Grid_Inputs.gdb\\Inputs\\tj_2021_us_st_cnt,COUNTY_FP,0,3;CNTY_NAME \"CNTY_NAME\" true true false 25 Text 0 0,First,#,K:\\projects\\rgmg\\MSGeoProject\\Projects\\Grid_Effort\\H3Grid_Inputs.gdb\\Inputs\\tj_2021_us_st_cnt,CNTY_NAME,0,25;GEO_ID \"GEO_ID\" true true false 5 Text 0 0,First,#,K:\\projects\\rgmg\\MSGeoProject\\Projects\\Grid_Effort\\H3Grid_Inputs.gdb\\Inputs\\tj_2021_us_st_cnt,GEO_ID,0,5',\n",
    "    match_option=\"HAVE_THEIR_CENTER_IN\",\n",
    "    search_radius=None,\n",
    "    distance_field_name=\"\"\n",
    ")\n",
    "\n",
    "arcpy.management.DeleteField(\n",
    "    in_table=r\"K:\\projects\\rgmg\\MSGeoProject\\Projects\\Grid_Effort\\H3Grid_Inputs.gdb\\Temp\\H3_5_St_Cnty\",\n",
    "    drop_field=\"Join_Count;TARGET_FID\",\n",
    "    method=\"DELETE_FIELDS\"\n",
    ")"
   ]
  },
  {
   "cell_type": "code",
   "execution_count": 8,
   "metadata": {},
   "outputs": [
    {
     "data": {
      "text/html": [
       "<div class='gpresult'><h2>Messages</h2><div id='messages' data-messages='[\"Start Time: Friday, April 12, 2024 2:44:36 PM\",\"Succeeded at Friday, April 12, 2024 2:44:37 PM (Elapsed Time: 1.38 seconds)\"]' data-show='true'><div id = 'default' /></div></div>"
      ],
      "text/plain": [
       "<Result 'K:\\\\projects\\\\rgmg\\\\MSGeoProject\\\\Projects\\\\Grid_Effort\\\\H3Grid_Inputs.gdb\\\\Temp\\\\H3_6_St_Cnty'>"
      ]
     },
     "execution_count": 8,
     "metadata": {},
     "output_type": "execute_result"
    }
   ],
   "source": [
    "# add state and county boundary fields to H3_6 grid, Spatial Join\n",
    "import arcpy\n",
    "arcpy.analysis.SpatialJoin(\n",
    "    target_features=r\"K:\\projects\\rgmg\\MSGeoProject\\Projects\\Grid_Effort\\H3Grid_Inputs.gdb\\Grid_layers\\H3_6\",\n",
    "    join_features=r\"K:\\projects\\rgmg\\MSGeoProject\\Projects\\Grid_Effort\\H3Grid_Inputs.gdb\\Inputs\\tj_2021_us_st_cnt\",\n",
    "    out_feature_class=r\"K:\\projects\\rgmg\\MSGeoProject\\Projects\\Grid_Effort\\H3Grid_Inputs.gdb\\Temp\\H3_6_St_Cnty\",\n",
    "    join_operation=\"JOIN_ONE_TO_ONE\",\n",
    "    join_type=\"KEEP_ALL\",\n",
    "    field_mapping=r'GRID_ID \"GRID_ID\" true true false 17 Text 0 0,First,#,K:\\projects\\rgmg\\MSGeoProject\\Projects\\Grid_Effort\\H3Grid_Inputs.gdb\\Grid_layers\\H3_6,\\\n",
    "    GRID_ID,0,17;STATE_FP \"STATE_FP\" true true false 2 Text 0 0,First,#,K:\\projects\\rgmg\\MSGeoProject\\Projects\\Grid_Effort\\H3Grid_Inputs.gdb\\Inputs\\tj_2021_us_st_cnt,\\\n",
    "    STATE_FP,0,2;STATE_AB \"STATE_AB\" true true false 2 Text 0 0,First,#,K:\\projects\\rgmg\\MSGeoProject\\Projects\\Grid_Effort\\H3Grid_Inputs.gdb\\Inputs\\tj_2021_us_st_cnt,\\\n",
    "    STATE_AB,0,2;STATE_NM \"STATE_NM\" true true false 15 Text 0 0,First,#,K:\\projects\\rgmg\\MSGeoProject\\Projects\\Grid_Effort\\H3Grid_Inputs.gdb\\Inputs\\tj_2021_us_st_cnt,\\\n",
    "    STATE_NM,0,15;COUNTY_FP \"COUNTY_FP\" true true false 3 Text 0 0,First,#,K:\\projects\\rgmg\\MSGeoProject\\Projects\\Grid_Effort\\H3Grid_Inputs.gdb\\Inputs\\tj_2021_us_st_cnt,\\\n",
    "    COUNTY_FP,0,3;CNTY_NAME \"CNTY_NAME\" true true false 25 Text 0 0,First,#,K:\\projects\\rgmg\\MSGeoProject\\Projects\\Grid_Effort\\H3Grid_Inputs.gdb\\Inputs\\tj_2021_us_st_cnt,\\\n",
    "    CNTY_NAME,0,25;GEO_ID \"GEO_ID\" true true false 5 Text 0 0,First,#,K:\\projects\\rgmg\\MSGeoProject\\Projects\\Grid_Effort\\H3Grid_Inputs.gdb\\Inputs\\tj_2021_us_st_cnt,GEO_ID,0,5',\n",
    "    match_option=\"HAVE_THEIR_CENTER_IN\",\n",
    "    search_radius=None,\n",
    "    distance_field_name=\"\"\n",
    ")\n",
    "arcpy.management.DeleteField(\n",
    "    in_table=r\"K:\\projects\\rgmg\\MSGeoProject\\Projects\\Grid_Effort\\H3Grid_Inputs.gdb\\Temp\\H3_6_St_Cnty\",\n",
    "    drop_field=\"Join_Count;TARGET_FID\",\n",
    "    method=\"DELETE_FIELDS\"\n",
    ")"
   ]
  },
  {
   "cell_type": "code",
   "execution_count": 9,
   "metadata": {},
   "outputs": [
    {
     "data": {
      "text/html": [
       "<div class='gpresult'><h2>Messages</h2><div id='messages' data-messages='[\"Start Time: Friday, April 12, 2024 2:46:14 PM\",\"Succeeded at Friday, April 12, 2024 2:46:17 PM (Elapsed Time: 3.12 seconds)\"]' data-show='true'><div id = 'default' /></div></div>"
      ],
      "text/plain": [
       "<Result 'K:\\\\projects\\\\rgmg\\\\MSGeoProject\\\\Projects\\\\Grid_Effort\\\\H3Grid_Inputs.gdb\\\\Temp\\\\H3_7_St_Cnty'>"
      ]
     },
     "execution_count": 9,
     "metadata": {},
     "output_type": "execute_result"
    }
   ],
   "source": [
    "# add state and county boundary fields to H3_7 grid, Spatial Join\n",
    "import arcpy\n",
    "arcpy.analysis.SpatialJoin(\n",
    "    target_features=r\"K:\\projects\\rgmg\\MSGeoProject\\Projects\\Grid_Effort\\H3Grid_Inputs.gdb\\Grid_layers\\H3_7\",\n",
    "    join_features=r\"K:\\projects\\rgmg\\MSGeoProject\\Projects\\Grid_Effort\\H3Grid_Inputs.gdb\\Inputs\\tj_2021_us_st_cnt\",\n",
    "    out_feature_class=r\"K:\\projects\\rgmg\\MSGeoProject\\Projects\\Grid_Effort\\H3Grid_Inputs.gdb\\Temp\\H3_7_St_Cnty\",\n",
    "    join_operation=\"JOIN_ONE_TO_ONE\",\n",
    "    join_type=\"KEEP_ALL\",\n",
    "    field_mapping=r'GRID_ID \"GRID_ID\" true true false 17 Text 0 0,First,#,K:\\projects\\rgmg\\MSGeoProject\\Projects\\Grid_Effort\\H3Grid_Inputs.gdb\\Grid_layers\\H3_7,GRID_ID,0,17;STATE_FP \"STATE_FP\" true true false 2 Text 0 0,First,#,K:\\projects\\rgmg\\MSGeoProject\\Projects\\Grid_Effort\\H3Grid_Inputs.gdb\\Inputs\\tj_2021_us_st_cnt,STATE_FP,0,2;STATE_AB \"STATE_AB\" true true false 2 Text 0 0,First,#,K:\\projects\\rgmg\\MSGeoProject\\Projects\\Grid_Effort\\H3Grid_Inputs.gdb\\Inputs\\tj_2021_us_st_cnt,STATE_AB,0,2;STATE_NM \"STATE_NM\" true true false 15 Text 0 0,First,#,K:\\projects\\rgmg\\MSGeoProject\\Projects\\Grid_Effort\\H3Grid_Inputs.gdb\\Inputs\\tj_2021_us_st_cnt,STATE_NM,0,15;COUNTY_FP \"COUNTY_FP\" true true false 3 Text 0 0,First,#,K:\\projects\\rgmg\\MSGeoProject\\Projects\\Grid_Effort\\H3Grid_Inputs.gdb\\Inputs\\tj_2021_us_st_cnt,COUNTY_FP,0,3;CNTY_NAME \"CNTY_NAME\" true true false 25 Text 0 0,First,#,K:\\projects\\rgmg\\MSGeoProject\\Projects\\Grid_Effort\\H3Grid_Inputs.gdb\\Inputs\\tj_2021_us_st_cnt,CNTY_NAME,0,25;GEO_ID \"GEO_ID\" true true false 5 Text 0 0,First,#,K:\\projects\\rgmg\\MSGeoProject\\Projects\\Grid_Effort\\H3Grid_Inputs.gdb\\Inputs\\tj_2021_us_st_cnt,GEO_ID,0,5',\n",
    "    match_option=\"HAVE_THEIR_CENTER_IN\",\n",
    "    search_radius=None,\n",
    "    distance_field_name=\"\"\n",
    ")\n",
    "arcpy.management.DeleteField(\n",
    "    in_table=r\"K:\\projects\\rgmg\\MSGeoProject\\Projects\\Grid_Effort\\H3Grid_Inputs.gdb\\Temp\\H3_7_St_Cnty\",\n",
    "    drop_field=\"Join_Count;TARGET_FID\",\n",
    "    method=\"DELETE_FIELDS\"\n",
    ")"
   ]
  },
  {
   "cell_type": "code",
   "execution_count": 10,
   "metadata": {},
   "outputs": [
    {
     "data": {
      "text/html": [
       "<div class='gpresult'><h2>Messages</h2><div id='messages' data-messages='[\"Start Time: Friday, April 12, 2024 2:50:44 PM\",\"Succeeded at Friday, April 12, 2024 2:50:53 PM (Elapsed Time: 8.71 seconds)\"]' data-show='true'><div id = 'default' /></div></div>"
      ],
      "text/plain": [
       "<Result 'K:\\\\projects\\\\rgmg\\\\MSGeoProject\\\\Projects\\\\Grid_Effort\\\\H3Grid_Inputs.gdb\\\\Temp\\\\H3_8_St_Cnty'>"
      ]
     },
     "execution_count": 10,
     "metadata": {},
     "output_type": "execute_result"
    }
   ],
   "source": [
    "# add state and county boundary fields to H3_8 grid, Spatial Join\n",
    "import arcpy\n",
    "arcpy.analysis.SpatialJoin(\n",
    "    target_features=r\"K:\\projects\\rgmg\\MSGeoProject\\Projects\\Grid_Effort\\H3Grid_Inputs.gdb\\Grid_layers\\H3_8\",\n",
    "    join_features=r\"K:\\projects\\rgmg\\MSGeoProject\\Projects\\Grid_Effort\\H3Grid_Inputs.gdb\\Inputs\\tj_2021_us_st_cnt\",\n",
    "    out_feature_class=r\"K:\\projects\\rgmg\\MSGeoProject\\Projects\\Grid_Effort\\H3Grid_Inputs.gdb\\Temp\\H3_8_St_Cnty\",\n",
    "    join_operation=\"JOIN_ONE_TO_ONE\",\n",
    "    join_type=\"KEEP_ALL\",\n",
    "    field_mapping=r'GRID_ID \"GRID_ID\" true true false 17 Text 0 0,First,#,K:\\projects\\rgmg\\MSGeoProject\\Projects\\Grid_Effort\\H3Grid_Inputs.gdb\\Grid_layers\\H3_8,GRID_ID,0,17;STATE_FP \"STATE_FP\" true true false 2 Text 0 0,First,#,K:\\projects\\rgmg\\MSGeoProject\\Projects\\Grid_Effort\\H3Grid_Inputs.gdb\\Inputs\\tj_2021_us_st_cnt,STATE_FP,0,2;STATE_AB \"STATE_AB\" true true false 2 Text 0 0,First,#,K:\\projects\\rgmg\\MSGeoProject\\Projects\\Grid_Effort\\H3Grid_Inputs.gdb\\Inputs\\tj_2021_us_st_cnt,STATE_AB,0,2;STATE_NM \"STATE_NM\" true true false 15 Text 0 0,First,#,K:\\projects\\rgmg\\MSGeoProject\\Projects\\Grid_Effort\\H3Grid_Inputs.gdb\\Inputs\\tj_2021_us_st_cnt,STATE_NM,0,15;COUNTY_FP \"COUNTY_FP\" true true false 3 Text 0 0,First,#,K:\\projects\\rgmg\\MSGeoProject\\Projects\\Grid_Effort\\H3Grid_Inputs.gdb\\Inputs\\tj_2021_us_st_cnt,COUNTY_FP,0,3;CNTY_NAME \"CNTY_NAME\" true true false 25 Text 0 0,First,#,K:\\projects\\rgmg\\MSGeoProject\\Projects\\Grid_Effort\\H3Grid_Inputs.gdb\\Inputs\\tj_2021_us_st_cnt,CNTY_NAME,0,25;GEO_ID \"GEO_ID\" true true false 5 Text 0 0,First,#,K:\\projects\\rgmg\\MSGeoProject\\Projects\\Grid_Effort\\H3Grid_Inputs.gdb\\Inputs\\tj_2021_us_st_cnt,GEO_ID,0,5',\n",
    "    match_option=\"HAVE_THEIR_CENTER_IN\",\n",
    "    search_radius=None,\n",
    "    distance_field_name=\"\"\n",
    ")\n",
    "arcpy.management.DeleteField(\n",
    "    in_table=r\"K:\\projects\\rgmg\\MSGeoProject\\Projects\\Grid_Effort\\H3Grid_Inputs.gdb\\Temp\\H3_8_St_Cnty\",\n",
    "    drop_field=\"Join_Count;TARGET_FID\",\n",
    "    method=\"DELETE_FIELDS\"\n",
    ")"
   ]
  },
  {
   "cell_type": "code",
   "execution_count": 11,
   "metadata": {},
   "outputs": [
    {
     "data": {
      "text/html": [
       "<div class='gpresult'><h2>Messages</h2><div id='messages' data-messages='[\"Start Time: Friday, April 12, 2024 2:53:30 PM\",\"Succeeded at Friday, April 12, 2024 2:54:21 PM (Elapsed Time: 50.59 seconds)\"]' data-show='true'><div id = 'default' /></div></div>"
      ],
      "text/plain": [
       "<Result 'K:\\\\projects\\\\rgmg\\\\MSGeoProject\\\\Projects\\\\Grid_Effort\\\\H3Grid_Inputs.gdb\\\\Temp\\\\H3_9_St_Cnty'>"
      ]
     },
     "execution_count": 11,
     "metadata": {},
     "output_type": "execute_result"
    }
   ],
   "source": [
    "# add state and county boundary fields to H3_9 grid, Spatial Join\n",
    "import arcpy\n",
    "arcpy.analysis.SpatialJoin(\n",
    "    target_features=r\"K:\\projects\\rgmg\\MSGeoProject\\Projects\\Grid_Effort\\H3Grid_Inputs.gdb\\Grid_layers\\H3_9\",\n",
    "    join_features=r\"K:\\projects\\rgmg\\MSGeoProject\\Projects\\Grid_Effort\\H3Grid_Inputs.gdb\\Inputs\\tj_2021_us_st_cnt\",\n",
    "    out_feature_class=r\"K:\\projects\\rgmg\\MSGeoProject\\Projects\\Grid_Effort\\H3Grid_Inputs.gdb\\Temp\\H3_9_St_Cnty\",\n",
    "    join_operation=\"JOIN_ONE_TO_ONE\",\n",
    "    join_type=\"KEEP_ALL\",\n",
    "    field_mapping=r'GRID_ID \"GRID_ID\" true true false 17 Text 0 0,First,#,K:\\projects\\rgmg\\MSGeoProject\\Projects\\Grid_Effort\\H3Grid_Inputs.gdb\\Grid_layers\\H3_9,GRID_ID,0,17;STATE_FP \"STATE_FP\" true true false 2 Text 0 0,First,#,K:\\projects\\rgmg\\MSGeoProject\\Projects\\Grid_Effort\\H3Grid_Inputs.gdb\\Inputs\\tj_2021_us_st_cnt,STATE_FP,0,2;STATE_AB \"STATE_AB\" true true false 2 Text 0 0,First,#,K:\\projects\\rgmg\\MSGeoProject\\Projects\\Grid_Effort\\H3Grid_Inputs.gdb\\Inputs\\tj_2021_us_st_cnt,STATE_AB,0,2;STATE_NM \"STATE_NM\" true true false 15 Text 0 0,First,#,K:\\projects\\rgmg\\MSGeoProject\\Projects\\Grid_Effort\\H3Grid_Inputs.gdb\\Inputs\\tj_2021_us_st_cnt,STATE_NM,0,15;COUNTY_FP \"COUNTY_FP\" true true false 3 Text 0 0,First,#,K:\\projects\\rgmg\\MSGeoProject\\Projects\\Grid_Effort\\H3Grid_Inputs.gdb\\Inputs\\tj_2021_us_st_cnt,COUNTY_FP,0,3;CNTY_NAME \"CNTY_NAME\" true true false 25 Text 0 0,First,#,K:\\projects\\rgmg\\MSGeoProject\\Projects\\Grid_Effort\\H3Grid_Inputs.gdb\\Inputs\\tj_2021_us_st_cnt,CNTY_NAME,0,25;GEO_ID \"GEO_ID\" true true false 5 Text 0 0,First,#,K:\\projects\\rgmg\\MSGeoProject\\Projects\\Grid_Effort\\H3Grid_Inputs.gdb\\Inputs\\tj_2021_us_st_cnt,GEO_ID,0,5',\n",
    "    match_option=\"HAVE_THEIR_CENTER_IN\",\n",
    "    search_radius=None,\n",
    "    distance_field_name=\"\"\n",
    ")\n",
    "arcpy.management.DeleteField(\n",
    "    in_table=r\"K:\\projects\\rgmg\\MSGeoProject\\Projects\\Grid_Effort\\H3Grid_Inputs.gdb\\Temp\\H3_9_St_Cnty\",\n",
    "    drop_field=\"Join_Count;TARGET_FID\",\n",
    "    method=\"DELETE_FIELDS\"\n",
    ")"
   ]
  },
  {
   "cell_type": "code",
   "execution_count": 12,
   "metadata": {},
   "outputs": [
    {
     "data": {
      "text/html": [
       "<div class='gpresult'><h2>Messages</h2><div id='messages' data-messages='[\"Start Time: Friday, April 12, 2024 3:04:02 PM\",\"Succeeded at Friday, April 12, 2024 3:09:40 PM (Elapsed Time: 5 minutes 37 seconds)\"]' data-show='true'><div id = 'default' /></div></div>"
      ],
      "text/plain": [
       "<Result 'K:\\\\projects\\\\rgmg\\\\MSGeoProject\\\\Projects\\\\Grid_Effort\\\\H3Grid_Inputs.gdb\\\\Temp\\\\H3_10_St_Cnty'>"
      ]
     },
     "execution_count": 12,
     "metadata": {},
     "output_type": "execute_result"
    }
   ],
   "source": [
    "# add state and county boundary fields to H3_10 grid, Spatial Join\n",
    "import arcpy\n",
    "arcpy.analysis.SpatialJoin(\n",
    "    target_features=r\"K:\\projects\\rgmg\\MSGeoProject\\Projects\\Grid_Effort\\H3Grid_Inputs.gdb\\Grid_layers\\H3_10\",\n",
    "    join_features=r\"K:\\projects\\rgmg\\MSGeoProject\\Projects\\Grid_Effort\\H3Grid_Inputs.gdb\\Inputs\\tj_2021_us_st_cnt\",\n",
    "    out_feature_class=r\"K:\\projects\\rgmg\\MSGeoProject\\Projects\\Grid_Effort\\H3Grid_Inputs.gdb\\Temp\\H3_10_St_Cnty\",\n",
    "    join_operation=\"JOIN_ONE_TO_ONE\",\n",
    "    join_type=\"KEEP_ALL\",\n",
    "    field_mapping=r'GRID_ID \"GRID_ID\" true true false 17 Text 0 0,First,#,K:\\projects\\rgmg\\MSGeoProject\\Projects\\Grid_Effort\\H3Grid_Inputs.gdb\\Grid_layers\\H3_10,GRID_ID,0,17;STATE_FP \"STATE_FP\" true true false 2 Text 0 0,First,#,K:\\projects\\rgmg\\MSGeoProject\\Projects\\Grid_Effort\\H3Grid_Inputs.gdb\\Inputs\\tj_2021_us_st_cnt,STATE_FP,0,2;STATE_AB \"STATE_AB\" true true false 2 Text 0 0,First,#,K:\\projects\\rgmg\\MSGeoProject\\Projects\\Grid_Effort\\H3Grid_Inputs.gdb\\Inputs\\tj_2021_us_st_cnt,STATE_AB,0,2;STATE_NM \"STATE_NM\" true true false 15 Text 0 0,First,#,K:\\projects\\rgmg\\MSGeoProject\\Projects\\Grid_Effort\\H3Grid_Inputs.gdb\\Inputs\\tj_2021_us_st_cnt,STATE_NM,0,15;COUNTY_FP \"COUNTY_FP\" true true false 3 Text 0 0,First,#,K:\\projects\\rgmg\\MSGeoProject\\Projects\\Grid_Effort\\H3Grid_Inputs.gdb\\Inputs\\tj_2021_us_st_cnt,COUNTY_FP,0,3;CNTY_NAME \"CNTY_NAME\" true true false 25 Text 0 0,First,#,K:\\projects\\rgmg\\MSGeoProject\\Projects\\Grid_Effort\\H3Grid_Inputs.gdb\\Inputs\\tj_2021_us_st_cnt,CNTY_NAME,0,25;GEO_ID \"GEO_ID\" true true false 5 Text 0 0,First,#,K:\\projects\\rgmg\\MSGeoProject\\Projects\\Grid_Effort\\H3Grid_Inputs.gdb\\Inputs\\tj_2021_us_st_cnt,GEO_ID,0,5',\n",
    "    match_option=\"HAVE_THEIR_CENTER_IN\",\n",
    "    search_radius=None,\n",
    "    distance_field_name=\"\"\n",
    ")\n",
    "arcpy.management.DeleteField(\n",
    "    in_table=r\"K:\\projects\\rgmg\\MSGeoProject\\Projects\\Grid_Effort\\H3Grid_Inputs.gdb\\Temp\\H3_10_St_Cnty\",\n",
    "    drop_field=\"Join_Count;TARGET_FID\",\n",
    "    method=\"DELETE_FIELDS\"\n",
    ")"
   ]
  },
  {
   "cell_type": "code",
   "execution_count": 8,
   "metadata": {},
   "outputs": [
    {
     "data": {
      "text/html": [
       "<div class='gpresult'><h2>Messages</h2><div id='messages' data-messages='[\"Start Time: Monday, April 15, 2024 1:12:15 PM\",\"Succeeded at Monday, April 15, 2024 1:12:16 PM (Elapsed Time: 1.44 seconds)\"]' data-show='true'><div id = 'default' /></div></div>"
      ],
      "text/plain": [
       "<Result 'K:\\\\projects\\\\rgmg\\\\MSGeoProject\\\\Projects\\\\Grid_Effort\\\\H3Grid_Inputs.gdb\\\\Temp\\\\H3_5_St_Cnty_EDA'>"
      ]
     },
     "execution_count": 8,
     "metadata": {},
     "output_type": "execute_result"
    }
   ],
   "source": [
    "arcpy.analysis.SpatialJoin(\n",
    "    target_features=r\"K:\\\\projects\\\\rgmg\\\\MSGeoProject\\\\Projects\\\\Grid_Effort\\\\H3Grid_Inputs.gdb\\\\Temp\\\\H3_5_St_Cnty\",\n",
    "    join_features= r\"K:\\\\projects\\\\rgmg\\\\MSGeoProject\\\\Projects\\\\Grid_Effort\\\\H3Grid_Inputs.gdb\\\\Inputs\\\\Estuarine_Drainage_Areas\",\n",
    "    out_feature_class=r\"K:\\projects\\rgmg\\MSGeoProject\\Projects\\Grid_Effort\\H3Grid_Inputs.gdb\\Temp\\H3_5_St_Cnty_EDA\",\n",
    "    join_operation=\"JOIN_ONE_TO_ONE\",\n",
    "    join_type=\"KEEP_ALL\",\n",
    "    field_mapping='GRID_ID \"GRID_ID\" true true false 17 Text 0 0,First,#,H3_5_St_Cnty,GRID_ID,0,17;STATE_FP \"STATE_FP\" true true false 2 Text 0 0,First,#,H3_5_St_Cnty,STATE_FP,0,2;STATE_AB \"STATE_AB\" true true false 2 Text 0 0,First,#,H3_5_St_Cnty,STATE_AB,0,2;STATE_NM \"STATE_NM\" true true false 15 Text 0 0,First,#,H3_5_St_Cnty,STATE_NM,0,15;COUNTY_FP \"COUNTY_FP\" true true false 3 Text 0 0,First,#,H3_5_St_Cnty,COUNTY_FP,0,3;CNTY_NAME \"CNTY_NAME\" true true false 25 Text 0 0,First,#,H3_5_St_Cnty,CNTY_NAME,0,25;GEO_ID \"GEO_ID\" true true false 5 Text 0 0,First,#,H3_5_St_Cnty,GEO_ID,0,5;EDA_ID \"EDA_ID\" true true false 3 Text 0 0,First,#,Estuarine_Drainage_Areas,EDA_ID,0,3;EDA_NAME \"EDA_NAME\" true true false 100 Text 0 0,First,#,Estuarine_Drainage_Areas,EDA_NAME,0,100',\n",
    "    match_option=\"HAVE_THEIR_CENTER_IN\",\n",
    "    search_radius=None,\n",
    "    distance_field_name=\"\"\n",
    ")\n",
    "arcpy.management.DeleteField(\n",
    "    in_table=r\"K:\\projects\\rgmg\\MSGeoProject\\Projects\\Grid_Effort\\H3Grid_Inputs.gdb\\Temp\\H3_5_St_Cnty_EDA\",\n",
    "    drop_field=\"Join_Count;TARGET_FID\",\n",
    "    method=\"DELETE_FIELDS\"\n",
    ")"
   ]
  },
  {
   "cell_type": "code",
   "execution_count": 9,
   "metadata": {},
   "outputs": [
    {
     "data": {
      "text/html": [
       "<div class='gpresult'><h2>Messages</h2><div id='messages' data-messages='[\"Start Time: Monday, April 15, 2024 1:12:27 PM\",\"Succeeded at Monday, April 15, 2024 1:12:30 PM (Elapsed Time: 2.10 seconds)\"]' data-show='true'><div id = 'default' /></div></div>"
      ],
      "text/plain": [
       "<Result 'K:\\\\projects\\\\rgmg\\\\MSGeoProject\\\\Projects\\\\Grid_Effort\\\\H3Grid_Inputs.gdb\\\\Temp\\\\H3_6_St_Cnty_EDA'>"
      ]
     },
     "execution_count": 9,
     "metadata": {},
     "output_type": "execute_result"
    }
   ],
   "source": [
    "arcpy.analysis.SpatialJoin(\n",
    "    target_features=r\"K:\\\\projects\\\\rgmg\\\\MSGeoProject\\\\Projects\\\\Grid_Effort\\\\H3Grid_Inputs.gdb\\\\Temp\\\\H3_6_St_Cnty\",\n",
    "    join_features= r\"K:\\\\projects\\\\rgmg\\\\MSGeoProject\\\\Projects\\\\Grid_Effort\\\\H3Grid_Inputs.gdb\\\\Inputs\\\\Estuarine_Drainage_Areas\",\n",
    "    out_feature_class=r\"K:\\projects\\rgmg\\MSGeoProject\\Projects\\Grid_Effort\\H3Grid_Inputs.gdb\\Temp\\H3_6_St_Cnty_EDA\",\n",
    "    join_operation=\"JOIN_ONE_TO_ONE\",\n",
    "    join_type=\"KEEP_ALL\",\n",
    "    field_mapping='GRID_ID \"GRID_ID\" true true false 17 Text 0 0,First,#,H3_5_St_Cnty,GRID_ID,0,17;STATE_FP \"STATE_FP\" true true false 2 Text 0 0,First,#,H3_5_St_Cnty,STATE_FP,0,2;STATE_AB \"STATE_AB\" true true false 2 Text 0 0,First,#,H3_5_St_Cnty,STATE_AB,0,2;STATE_NM \"STATE_NM\" true true false 15 Text 0 0,First,#,H3_5_St_Cnty,STATE_NM,0,15;COUNTY_FP \"COUNTY_FP\" true true false 3 Text 0 0,First,#,H3_5_St_Cnty,COUNTY_FP,0,3;CNTY_NAME \"CNTY_NAME\" true true false 25 Text 0 0,First,#,H3_5_St_Cnty,CNTY_NAME,0,25;GEO_ID \"GEO_ID\" true true false 5 Text 0 0,First,#,H3_5_St_Cnty,GEO_ID,0,5;EDA_ID \"EDA_ID\" true true false 3 Text 0 0,First,#,Estuarine_Drainage_Areas,EDA_ID,0,3;EDA_NAME \"EDA_NAME\" true true false 100 Text 0 0,First,#,Estuarine_Drainage_Areas,EDA_NAME,0,100',\n",
    "    match_option=\"HAVE_THEIR_CENTER_IN\",\n",
    "    search_radius=None,\n",
    "    distance_field_name=\"\"\n",
    ")\n",
    "arcpy.management.DeleteField(\n",
    "    in_table=r\"K:\\projects\\rgmg\\MSGeoProject\\Projects\\Grid_Effort\\H3Grid_Inputs.gdb\\Temp\\H3_6_St_Cnty_EDA\",\n",
    "    drop_field=\"Join_Count;TARGET_FID\",\n",
    "    method=\"DELETE_FIELDS\"\n",
    ")"
   ]
  },
  {
   "cell_type": "code",
   "execution_count": 10,
   "metadata": {},
   "outputs": [
    {
     "data": {
      "text/html": [
       "<div class='gpresult'><h2>Messages</h2><div id='messages' data-messages='[\"Start Time: Monday, April 15, 2024 1:12:35 PM\",\"Succeeded at Monday, April 15, 2024 1:12:38 PM (Elapsed Time: 3.19 seconds)\"]' data-show='true'><div id = 'default' /></div></div>"
      ],
      "text/plain": [
       "<Result 'K:\\\\projects\\\\rgmg\\\\MSGeoProject\\\\Projects\\\\Grid_Effort\\\\H3Grid_Inputs.gdb\\\\Temp\\\\H3_7_St_Cnty_EDA'>"
      ]
     },
     "execution_count": 10,
     "metadata": {},
     "output_type": "execute_result"
    }
   ],
   "source": [
    "arcpy.analysis.SpatialJoin(\n",
    "    target_features=r\"K:\\\\projects\\\\rgmg\\\\MSGeoProject\\\\Projects\\\\Grid_Effort\\\\H3Grid_Inputs.gdb\\\\Temp\\\\H3_7_St_Cnty\",\n",
    "    join_features= r\"K:\\\\projects\\\\rgmg\\\\MSGeoProject\\\\Projects\\\\Grid_Effort\\\\H3Grid_Inputs.gdb\\\\Inputs\\\\Estuarine_Drainage_Areas\",\n",
    "    out_feature_class=r\"K:\\projects\\rgmg\\MSGeoProject\\Projects\\Grid_Effort\\H3Grid_Inputs.gdb\\Temp\\H3_7_St_Cnty_EDA\",\n",
    "    join_operation=\"JOIN_ONE_TO_ONE\",\n",
    "    join_type=\"KEEP_ALL\",\n",
    "    field_mapping='GRID_ID \"GRID_ID\" true true false 17 Text 0 0,First,#,H3_5_St_Cnty,GRID_ID,0,17;STATE_FP \"STATE_FP\" true true false 2 Text 0 0,First,#,H3_5_St_Cnty,STATE_FP,0,2;STATE_AB \"STATE_AB\" true true false 2 Text 0 0,First,#,H3_5_St_Cnty,STATE_AB,0,2;STATE_NM \"STATE_NM\" true true false 15 Text 0 0,First,#,H3_5_St_Cnty,STATE_NM,0,15;COUNTY_FP \"COUNTY_FP\" true true false 3 Text 0 0,First,#,H3_5_St_Cnty,COUNTY_FP,0,3;CNTY_NAME \"CNTY_NAME\" true true false 25 Text 0 0,First,#,H3_5_St_Cnty,CNTY_NAME,0,25;GEO_ID \"GEO_ID\" true true false 5 Text 0 0,First,#,H3_5_St_Cnty,GEO_ID,0,5;EDA_ID \"EDA_ID\" true true false 3 Text 0 0,First,#,Estuarine_Drainage_Areas,EDA_ID,0,3;EDA_NAME \"EDA_NAME\" true true false 100 Text 0 0,First,#,Estuarine_Drainage_Areas,EDA_NAME,0,100',\n",
    "    match_option=\"HAVE_THEIR_CENTER_IN\",\n",
    "    search_radius=None,\n",
    "    distance_field_name=\"\"\n",
    ")\n",
    "arcpy.management.DeleteField(\n",
    "    in_table=r\"K:\\projects\\rgmg\\MSGeoProject\\Projects\\Grid_Effort\\H3Grid_Inputs.gdb\\Temp\\H3_7_St_Cnty_EDA\",\n",
    "    drop_field=\"Join_Count;TARGET_FID\",\n",
    "    method=\"DELETE_FIELDS\"\n",
    ")"
   ]
  },
  {
   "cell_type": "code",
   "execution_count": 11,
   "metadata": {},
   "outputs": [
    {
     "data": {
      "text/html": [
       "<div class='gpresult'><h2>Messages</h2><div id='messages' data-messages='[\"Start Time: Monday, April 15, 2024 1:12:52 PM\",\"Succeeded at Monday, April 15, 2024 1:13:03 PM (Elapsed Time: 10.38 seconds)\"]' data-show='true'><div id = 'default' /></div></div>"
      ],
      "text/plain": [
       "<Result 'K:\\\\projects\\\\rgmg\\\\MSGeoProject\\\\Projects\\\\Grid_Effort\\\\H3Grid_Inputs.gdb\\\\Temp\\\\H3_8_St_Cnty_EDA'>"
      ]
     },
     "execution_count": 11,
     "metadata": {},
     "output_type": "execute_result"
    }
   ],
   "source": [
    "arcpy.analysis.SpatialJoin(\n",
    "    target_features=r\"K:\\\\projects\\\\rgmg\\\\MSGeoProject\\\\Projects\\\\Grid_Effort\\\\H3Grid_Inputs.gdb\\\\Temp\\\\H3_8_St_Cnty\",\n",
    "    join_features= r\"K:\\\\projects\\\\rgmg\\\\MSGeoProject\\\\Projects\\\\Grid_Effort\\\\H3Grid_Inputs.gdb\\\\Inputs\\\\Estuarine_Drainage_Areas\",\n",
    "    out_feature_class=r\"K:\\projects\\rgmg\\MSGeoProject\\Projects\\Grid_Effort\\H3Grid_Inputs.gdb\\Temp\\H3_8_St_Cnty_EDA\",\n",
    "    join_operation=\"JOIN_ONE_TO_ONE\",\n",
    "    join_type=\"KEEP_ALL\",\n",
    "    field_mapping='GRID_ID \"GRID_ID\" true true false 17 Text 0 0,First,#,H3_5_St_Cnty,GRID_ID,0,17;STATE_FP \"STATE_FP\" true true false 2 Text 0 0,First,#,H3_5_St_Cnty,STATE_FP,0,2;STATE_AB \"STATE_AB\" true true false 2 Text 0 0,First,#,H3_5_St_Cnty,STATE_AB,0,2;STATE_NM \"STATE_NM\" true true false 15 Text 0 0,First,#,H3_5_St_Cnty,STATE_NM,0,15;COUNTY_FP \"COUNTY_FP\" true true false 3 Text 0 0,First,#,H3_5_St_Cnty,COUNTY_FP,0,3;CNTY_NAME \"CNTY_NAME\" true true false 25 Text 0 0,First,#,H3_5_St_Cnty,CNTY_NAME,0,25;GEO_ID \"GEO_ID\" true true false 5 Text 0 0,First,#,H3_5_St_Cnty,GEO_ID,0,5;EDA_ID \"EDA_ID\" true true false 3 Text 0 0,First,#,Estuarine_Drainage_Areas,EDA_ID,0,3;EDA_NAME \"EDA_NAME\" true true false 100 Text 0 0,First,#,Estuarine_Drainage_Areas,EDA_NAME,0,100',\n",
    "    match_option=\"HAVE_THEIR_CENTER_IN\",\n",
    "    search_radius=None,\n",
    "    distance_field_name=\"\"\n",
    ")\n",
    "arcpy.management.DeleteField(\n",
    "    in_table=r\"K:\\projects\\rgmg\\MSGeoProject\\Projects\\Grid_Effort\\H3Grid_Inputs.gdb\\Temp\\H3_8_St_Cnty_EDA\",\n",
    "    drop_field=\"Join_Count;TARGET_FID\",\n",
    "    method=\"DELETE_FIELDS\"\n",
    ")"
   ]
  },
  {
   "cell_type": "code",
   "execution_count": 12,
   "metadata": {},
   "outputs": [
    {
     "data": {
      "text/html": [
       "<div class='gpresult'><h2>Messages</h2><div id='messages' data-messages='[\"Start Time: Monday, April 15, 2024 1:14:09 PM\",\"Succeeded at Monday, April 15, 2024 1:15:07 PM (Elapsed Time: 58.14 seconds)\"]' data-show='true'><div id = 'default' /></div></div>"
      ],
      "text/plain": [
       "<Result 'K:\\\\projects\\\\rgmg\\\\MSGeoProject\\\\Projects\\\\Grid_Effort\\\\H3Grid_Inputs.gdb\\\\Temp\\\\H3_9_St_Cnty_EDA'>"
      ]
     },
     "execution_count": 12,
     "metadata": {},
     "output_type": "execute_result"
    }
   ],
   "source": [
    "arcpy.analysis.SpatialJoin(\n",
    "    target_features=r\"K:\\\\projects\\\\rgmg\\\\MSGeoProject\\\\Projects\\\\Grid_Effort\\\\H3Grid_Inputs.gdb\\\\Temp\\\\H3_9_St_Cnty\",\n",
    "    join_features= r\"K:\\\\projects\\\\rgmg\\\\MSGeoProject\\\\Projects\\\\Grid_Effort\\\\H3Grid_Inputs.gdb\\\\Inputs\\\\Estuarine_Drainage_Areas\",\n",
    "    out_feature_class=r\"K:\\projects\\rgmg\\MSGeoProject\\Projects\\Grid_Effort\\H3Grid_Inputs.gdb\\Temp\\H3_9_St_Cnty_EDA\",\n",
    "    join_operation=\"JOIN_ONE_TO_ONE\",\n",
    "    join_type=\"KEEP_ALL\",\n",
    "    field_mapping='GRID_ID \"GRID_ID\" true true false 17 Text 0 0,First,#,H3_5_St_Cnty,GRID_ID,0,17;STATE_FP \"STATE_FP\" true true false 2 Text 0 0,First,#,H3_5_St_Cnty,STATE_FP,0,2;STATE_AB \"STATE_AB\" true true false 2 Text 0 0,First,#,H3_5_St_Cnty,STATE_AB,0,2;STATE_NM \"STATE_NM\" true true false 15 Text 0 0,First,#,H3_5_St_Cnty,STATE_NM,0,15;COUNTY_FP \"COUNTY_FP\" true true false 3 Text 0 0,First,#,H3_5_St_Cnty,COUNTY_FP,0,3;CNTY_NAME \"CNTY_NAME\" true true false 25 Text 0 0,First,#,H3_5_St_Cnty,CNTY_NAME,0,25;GEO_ID \"GEO_ID\" true true false 5 Text 0 0,First,#,H3_5_St_Cnty,GEO_ID,0,5;EDA_ID \"EDA_ID\" true true false 3 Text 0 0,First,#,Estuarine_Drainage_Areas,EDA_ID,0,3;EDA_NAME \"EDA_NAME\" true true false 100 Text 0 0,First,#,Estuarine_Drainage_Areas,EDA_NAME,0,100',\n",
    "    match_option=\"HAVE_THEIR_CENTER_IN\",\n",
    "    search_radius=None,\n",
    "    distance_field_name=\"\"\n",
    ")\n",
    "arcpy.management.DeleteField(\n",
    "    in_table=r\"K:\\projects\\rgmg\\MSGeoProject\\Projects\\Grid_Effort\\H3Grid_Inputs.gdb\\Temp\\H3_9_St_Cnty_EDA\",\n",
    "    drop_field=\"Join_Count;TARGET_FID\",\n",
    "    method=\"DELETE_FIELDS\"\n",
    ")"
   ]
  },
  {
   "cell_type": "code",
   "execution_count": 13,
   "metadata": {},
   "outputs": [
    {
     "data": {
      "text/html": [
       "<div class='gpresult'><h2>Messages</h2><div id='messages' data-messages='[\"Start Time: Monday, April 15, 2024 1:25:59 PM\",\"Succeeded at Monday, April 15, 2024 1:32:26 PM (Elapsed Time: 6 minutes 27 seconds)\"]' data-show='true'><div id = 'default' /></div></div>"
      ],
      "text/plain": [
       "<Result 'K:\\\\projects\\\\rgmg\\\\MSGeoProject\\\\Projects\\\\Grid_Effort\\\\H3Grid_Inputs.gdb\\\\Temp\\\\H3_10_St_Cnty_EDA'>"
      ]
     },
     "execution_count": 13,
     "metadata": {},
     "output_type": "execute_result"
    }
   ],
   "source": [
    "arcpy.analysis.SpatialJoin(\n",
    "    target_features=r\"K:\\\\projects\\\\rgmg\\\\MSGeoProject\\\\Projects\\\\Grid_Effort\\\\H3Grid_Inputs.gdb\\\\Temp\\\\H3_10_St_Cnty\",\n",
    "    join_features= r\"K:\\\\projects\\\\rgmg\\\\MSGeoProject\\\\Projects\\\\Grid_Effort\\\\H3Grid_Inputs.gdb\\\\Inputs\\\\Estuarine_Drainage_Areas\",\n",
    "    out_feature_class=r\"K:\\projects\\rgmg\\MSGeoProject\\Projects\\Grid_Effort\\H3Grid_Inputs.gdb\\Temp\\H3_10_St_Cnty_EDA\",\n",
    "    join_operation=\"JOIN_ONE_TO_ONE\",\n",
    "    join_type=\"KEEP_ALL\",\n",
    "    field_mapping='GRID_ID \"GRID_ID\" true true false 17 Text 0 0,First,#,H3_5_St_Cnty,GRID_ID,0,17;STATE_FP \"STATE_FP\" true true false 2 Text 0 0,First,#,H3_5_St_Cnty,STATE_FP,0,2;STATE_AB \"STATE_AB\" true true false 2 Text 0 0,First,#,H3_5_St_Cnty,STATE_AB,0,2;STATE_NM \"STATE_NM\" true true false 15 Text 0 0,First,#,H3_5_St_Cnty,STATE_NM,0,15;COUNTY_FP \"COUNTY_FP\" true true false 3 Text 0 0,First,#,H3_5_St_Cnty,COUNTY_FP,0,3;CNTY_NAME \"CNTY_NAME\" true true false 25 Text 0 0,First,#,H3_5_St_Cnty,CNTY_NAME,0,25;GEO_ID \"GEO_ID\" true true false 5 Text 0 0,First,#,H3_5_St_Cnty,GEO_ID,0,5;EDA_ID \"EDA_ID\" true true false 3 Text 0 0,First,#,Estuarine_Drainage_Areas,EDA_ID,0,3;EDA_NAME \"EDA_NAME\" true true false 100 Text 0 0,First,#,Estuarine_Drainage_Areas,EDA_NAME,0,100',\n",
    "    match_option=\"HAVE_THEIR_CENTER_IN\",\n",
    "    search_radius=None,\n",
    "    distance_field_name=\"\"\n",
    ")\n",
    "arcpy.management.DeleteField(\n",
    "    in_table=r\"K:\\projects\\rgmg\\MSGeoProject\\Projects\\Grid_Effort\\H3Grid_Inputs.gdb\\Temp\\H3_10_St_Cnty_EDA\",\n",
    "    drop_field=\"Join_Count;TARGET_FID\",\n",
    "    method=\"DELETE_FIELDS\"\n",
    ")"
   ]
  },
  {
   "cell_type": "code",
   "execution_count": 4,
   "metadata": {},
   "outputs": [
    {
     "data": {
      "text/html": [
       "<div class='gpresult'><h2>Messages</h2><div id='messages' data-messages='[\"Start Time: Monday, April 29, 2024 12:47:12 PM\",\"Succeeded at Monday, April 29, 2024 12:47:13 PM (Elapsed Time: 1.79 seconds)\"]' data-show='true'><div id = 'default' /></div></div>"
      ],
      "text/plain": [
       "<Result 'K:\\\\projects\\\\rgmg\\\\MSGeoProject\\\\Projects\\\\Grid_Effort\\\\H3Grid_Inputs.gdb\\\\Temp\\\\H3_6_St_Cnty_EDA_WB8'>"
      ]
     },
     "execution_count": 4,
     "metadata": {},
     "output_type": "execute_result"
    }
   ],
   "source": [
    "arcpy.analysis.SpatialJoin(\n",
    "    target_features=r\"K:\\projects\\rgmg\\MSGeoProject\\Projects\\Grid_Effort\\H3Grid_Inputs.gdb\\Temp\\H3_6_St_Cnty_EDA\",\n",
    "    join_features=r\"K:\\projects\\rgmg\\MSGeoProject\\Projects\\Grid_Effort\\H3Grid_Inputs.gdb\\Inputs\\WBDHU8\",\n",
    "    out_feature_class=r\"K:\\projects\\rgmg\\MSGeoProject\\Projects\\Grid_Effort\\H3Grid_Inputs.gdb\\Temp\\H3_6_St_Cnty_EDA_WB8\",\n",
    "    join_operation=\"JOIN_ONE_TO_ONE\",\n",
    "    join_type=\"KEEP_ALL\",\n",
    "    field_mapping=r'GRID_ID \"GRID_ID\" true true false 17 Text 0 0,First,#,K:\\projects\\rgmg\\MSGeoProject\\Projects\\Grid_Effort\\H3Grid_Inputs.gdb\\Temp\\H3_6_St_Cnty_EDA,\\\n",
    "    GRID_ID,0,17;STATE_FP \"STATE_FP\" true true false 2 Text 0 0,First,#,K:\\projects\\rgmg\\MSGeoProject\\Projects\\Grid_Effort\\H3Grid_Inputs.gdb\\Temp\\H3_6_St_Cnty_EDA,\\\n",
    "    STATE_FP,0,2;STATE_AB \"STATE_AB\" true true false 2 Text 0 0,First,#,K:\\projects\\rgmg\\MSGeoProject\\Projects\\Grid_Effort\\H3Grid_Inputs.gdb\\Temp\\H3_6_St_Cnty_EDA,\\\n",
    "    STATE_AB,0,2;STATE_NM \"STATE_NM\" true true false 15 Text 0 0,First,#,K:\\projects\\rgmg\\MSGeoProject\\Projects\\Grid_Effort\\H3Grid_Inputs.gdb\\Temp\\H3_6_St_Cnty_EDA,\\\n",
    "    STATE_NM,0,15;COUNTY_FP \"COUNTY_FP\" true true false 3 Text 0 0,First,#,K:\\projects\\rgmg\\MSGeoProject\\Projects\\Grid_Effort\\H3Grid_Inputs.gdb\\Temp\\H3_6_St_Cnty_EDA,\\\n",
    "    COUNTY_FP,0,3;CNTY_NAME \"CNTY_NAME\" true true false 25 Text 0 0,First,#,K:\\projects\\rgmg\\MSGeoProject\\Projects\\Grid_Effort\\H3Grid_Inputs.gdb\\Temp\\H3_6_St_Cnty_EDA,\\\n",
    "    CNTY_NAME,0,25;GEO_ID \"GEO_ID\" true true false 5 Text 0 0,First,#,K:\\projects\\rgmg\\MSGeoProject\\Projects\\Grid_Effort\\H3Grid_Inputs.gdb\\Temp\\H3_6_St_Cnty_EDA,\\\n",
    "    GEO_ID,0,5;EDA_ID \"EDA_ID\" true true false 3 Text 0 0,First,#,K:\\projects\\rgmg\\MSGeoProject\\Projects\\Grid_Effort\\H3Grid_Inputs.gdb\\Temp\\H3_6_St_Cnty_EDA,\\\n",
    "    EDA_ID,0,3;EDA_NAME \"EDA_NAME\" true true false 100 Text 0 0,First,#,K:\\projects\\rgmg\\MSGeoProject\\Projects\\Grid_Effort\\H3Grid_Inputs.gdb\\Temp\\H3_6_St_Cnty_EDA,\\\n",
    "    EDA_NAME,0,100;HUC_8 \"HUC_8\" true true false 8 Text 0 0,First,#,K:\\projects\\rgmg\\MSGeoProject\\Projects\\Grid_Effort\\H3Grid_Inputs.gdb\\Inputs\\WBDHU8,HUC_8,0,8',\n",
    "    match_option=\"HAVE_THEIR_CENTER_IN\",\n",
    "    search_radius=None,\n",
    "    distance_field_name=\"\"\n",
    ")\n",
    "arcpy.management.DeleteField(\n",
    "    in_table=r\"K:\\projects\\rgmg\\MSGeoProject\\Projects\\Grid_Effort\\H3Grid_Inputs.gdb\\Temp\\H3_6_St_Cnty_EDA_WB8\",\n",
    "    drop_field=\"Join_Count;TARGET_FID\",\n",
    "    method=\"DELETE_FIELDS\"\n",
    ")"
   ]
  },
  {
   "cell_type": "code",
   "execution_count": 5,
   "metadata": {},
   "outputs": [
    {
     "data": {
      "text/html": [
       "<div class='gpresult'><h2>Messages</h2><div id='messages' data-messages='[\"Start Time: Monday, April 29, 2024 12:48:06 PM\",\"Succeeded at Monday, April 29, 2024 12:48:09 PM (Elapsed Time: 2.83 seconds)\"]' data-show='true'><div id = 'default' /></div></div>"
      ],
      "text/plain": [
       "<Result 'K:\\\\projects\\\\rgmg\\\\MSGeoProject\\\\Projects\\\\Grid_Effort\\\\H3Grid_Inputs.gdb\\\\Temp\\\\H3_7_St_Cnty_EDA_WB8'>"
      ]
     },
     "execution_count": 5,
     "metadata": {},
     "output_type": "execute_result"
    }
   ],
   "source": [
    "arcpy.analysis.SpatialJoin(\n",
    "    target_features=r\"K:\\projects\\rgmg\\MSGeoProject\\Projects\\Grid_Effort\\H3Grid_Inputs.gdb\\Temp\\H3_7_St_Cnty_EDA\",\n",
    "    join_features=r\"K:\\projects\\rgmg\\MSGeoProject\\Projects\\Grid_Effort\\H3Grid_Inputs.gdb\\Inputs\\WBDHU8\",\n",
    "    out_feature_class=r\"K:\\projects\\rgmg\\MSGeoProject\\Projects\\Grid_Effort\\H3Grid_Inputs.gdb\\Temp\\H3_7_St_Cnty_EDA_WB8\",\n",
    "    join_operation=\"JOIN_ONE_TO_ONE\",\n",
    "    join_type=\"KEEP_ALL\",\n",
    "    field_mapping=r'GRID_ID \"GRID_ID\" true true false 17 Text 0 0,First,#,K:\\projects\\rgmg\\MSGeoProject\\Projects\\Grid_Effort\\H3Grid_Inputs.gdb\\Temp\\H3_7_St_Cnty_EDA,\\\n",
    "    GRID_ID,0,17;STATE_FP \"STATE_FP\" true true false 2 Text 0 0,First,#,K:\\projects\\rgmg\\MSGeoProject\\Projects\\Grid_Effort\\H3Grid_Inputs.gdb\\Temp\\H3_7_St_Cnty_EDA,\\\n",
    "    STATE_FP,0,2;STATE_AB \"STATE_AB\" true true false 2 Text 0 0,First,#,K:\\projects\\rgmg\\MSGeoProject\\Projects\\Grid_Effort\\H3Grid_Inputs.gdb\\Temp\\H3_7_St_Cnty_EDA,\\\n",
    "    STATE_AB,0,2;STATE_NM \"STATE_NM\" true true false 15 Text 0 0,First,#,K:\\projects\\rgmg\\MSGeoProject\\Projects\\Grid_Effort\\H3Grid_Inputs.gdb\\Temp\\H3_7_St_Cnty_EDA,\\\n",
    "    STATE_NM,0,15;COUNTY_FP \"COUNTY_FP\" true true false 3 Text 0 0,First,#,K:\\projects\\rgmg\\MSGeoProject\\Projects\\Grid_Effort\\H3Grid_Inputs.gdb\\Temp\\H3_7_St_Cnty_EDA,\\\n",
    "    COUNTY_FP,0,3;CNTY_NAME \"CNTY_NAME\" true true false 25 Text 0 0,First,#,K:\\projects\\rgmg\\MSGeoProject\\Projects\\Grid_Effort\\H3Grid_Inputs.gdb\\Temp\\H3_7_St_Cnty_EDA,\\\n",
    "    CNTY_NAME,0,25;GEO_ID \"GEO_ID\" true true false 5 Text 0 0,First,#,K:\\projects\\rgmg\\MSGeoProject\\Projects\\Grid_Effort\\H3Grid_Inputs.gdb\\Temp\\H3_7_St_Cnty_EDA,\\\n",
    "    GEO_ID,0,5;EDA_ID \"EDA_ID\" true true false 3 Text 0 0,First,#,K:\\projects\\rgmg\\MSGeoProject\\Projects\\Grid_Effort\\H3Grid_Inputs.gdb\\Temp\\H3_7_St_Cnty_EDA,\\\n",
    "    EDA_ID,0,3;EDA_NAME \"EDA_NAME\" true true false 100 Text 0 0,First,#,K:\\projects\\rgmg\\MSGeoProject\\Projects\\Grid_Effort\\H3Grid_Inputs.gdb\\Temp\\H3_7_St_Cnty_EDA,\\\n",
    "    EDA_NAME,0,100;HUC_8 \"HUC_8\" true true false 8 Text 0 0,First,#,K:\\projects\\rgmg\\MSGeoProject\\Projects\\Grid_Effort\\H3Grid_Inputs.gdb\\Inputs\\WBDHU8,HUC_8,0,8',\n",
    "    match_option=\"HAVE_THEIR_CENTER_IN\",\n",
    "    search_radius=None,\n",
    "    distance_field_name=\"\"\n",
    ")\n",
    "arcpy.management.DeleteField(\n",
    "    in_table=r\"K:\\projects\\rgmg\\MSGeoProject\\Projects\\Grid_Effort\\H3Grid_Inputs.gdb\\Temp\\H3_7_St_Cnty_EDA_WB8\",\n",
    "    drop_field=\"Join_Count;TARGET_FID\",\n",
    "    method=\"DELETE_FIELDS\"\n",
    ")"
   ]
  },
  {
   "cell_type": "code",
   "execution_count": 6,
   "metadata": {},
   "outputs": [
    {
     "data": {
      "text/html": [
       "<div class='gpresult'><h2>Messages</h2><div id='messages' data-messages='[\"Start Time: Monday, April 29, 2024 12:49:11 PM\",\"Succeeded at Monday, April 29, 2024 12:49:21 PM (Elapsed Time: 10.36 seconds)\"]' data-show='true'><div id = 'default' /></div></div>"
      ],
      "text/plain": [
       "<Result 'K:\\\\projects\\\\rgmg\\\\MSGeoProject\\\\Projects\\\\Grid_Effort\\\\H3Grid_Inputs.gdb\\\\Temp\\\\H3_8_St_Cnty_EDA_WB8'>"
      ]
     },
     "execution_count": 6,
     "metadata": {},
     "output_type": "execute_result"
    }
   ],
   "source": [
    "arcpy.analysis.SpatialJoin(\n",
    "    target_features=r\"K:\\projects\\rgmg\\MSGeoProject\\Projects\\Grid_Effort\\H3Grid_Inputs.gdb\\Temp\\H3_8_St_Cnty_EDA\",\n",
    "    join_features=r\"K:\\projects\\rgmg\\MSGeoProject\\Projects\\Grid_Effort\\H3Grid_Inputs.gdb\\Inputs\\WBDHU8\",\n",
    "    out_feature_class=r\"K:\\projects\\rgmg\\MSGeoProject\\Projects\\Grid_Effort\\H3Grid_Inputs.gdb\\Temp\\H3_8_St_Cnty_EDA_WB8\",\n",
    "    join_operation=\"JOIN_ONE_TO_ONE\",\n",
    "    join_type=\"KEEP_ALL\",\n",
    "    field_mapping=r'GRID_ID \"GRID_ID\" true true false 17 Text 0 0,First,#,K:\\projects\\rgmg\\MSGeoProject\\Projects\\Grid_Effort\\H3Grid_Inputs.gdb\\Temp\\H3_8_St_Cnty_EDA,\\\n",
    "    GRID_ID,0,17;STATE_FP \"STATE_FP\" true true false 2 Text 0 0,First,#,K:\\projects\\rgmg\\MSGeoProject\\Projects\\Grid_Effort\\H3Grid_Inputs.gdb\\Temp\\H3_8_St_Cnty_EDA,\\\n",
    "    STATE_FP,0,2;STATE_AB \"STATE_AB\" true true false 2 Text 0 0,First,#,K:\\projects\\rgmg\\MSGeoProject\\Projects\\Grid_Effort\\H3Grid_Inputs.gdb\\Temp\\H3_8_St_Cnty_EDA,\\\n",
    "    STATE_AB,0,2;STATE_NM \"STATE_NM\" true true false 15 Text 0 0,First,#,K:\\projects\\rgmg\\MSGeoProject\\Projects\\Grid_Effort\\H3Grid_Inputs.gdb\\Temp\\H3_8_St_Cnty_EDA,\\\n",
    "    STATE_NM,0,15;COUNTY_FP \"COUNTY_FP\" true true false 3 Text 0 0,First,#,K:\\projects\\rgmg\\MSGeoProject\\Projects\\Grid_Effort\\H3Grid_Inputs.gdb\\Temp\\H3_8_St_Cnty_EDA,\\\n",
    "    COUNTY_FP,0,3;CNTY_NAME \"CNTY_NAME\" true true false 25 Text 0 0,First,#,K:\\projects\\rgmg\\MSGeoProject\\Projects\\Grid_Effort\\H3Grid_Inputs.gdb\\Temp\\H3_8_St_Cnty_EDA,\\\n",
    "    CNTY_NAME,0,25;GEO_ID \"GEO_ID\" true true false 5 Text 0 0,First,#,K:\\projects\\rgmg\\MSGeoProject\\Projects\\Grid_Effort\\H3Grid_Inputs.gdb\\Temp\\H3_8_St_Cnty_EDA,\\\n",
    "    GEO_ID,0,5;EDA_ID \"EDA_ID\" true true false 3 Text 0 0,First,#,K:\\projects\\rgmg\\MSGeoProject\\Projects\\Grid_Effort\\H3Grid_Inputs.gdb\\Temp\\H3_8_St_Cnty_EDA,\\\n",
    "    EDA_ID,0,3;EDA_NAME \"EDA_NAME\" true true false 100 Text 0 0,First,#,K:\\projects\\rgmg\\MSGeoProject\\Projects\\Grid_Effort\\H3Grid_Inputs.gdb\\Temp\\H3_8_St_Cnty_EDA,\\\n",
    "    EDA_NAME,0,100;HUC_8 \"HUC_8\" true true false 8 Text 0 0,First,#,K:\\projects\\rgmg\\MSGeoProject\\Projects\\Grid_Effort\\H3Grid_Inputs.gdb\\Inputs\\WBDHU8,HUC_8,0,8',\n",
    "    match_option=\"HAVE_THEIR_CENTER_IN\",\n",
    "    search_radius=None,\n",
    "    distance_field_name=\"\"\n",
    ")\n",
    "arcpy.management.DeleteField(\n",
    "    in_table=r\"K:\\projects\\rgmg\\MSGeoProject\\Projects\\Grid_Effort\\H3Grid_Inputs.gdb\\Temp\\H3_8_St_Cnty_EDA_WB8\",\n",
    "    drop_field=\"Join_Count;TARGET_FID\",\n",
    "    method=\"DELETE_FIELDS\"\n",
    ")"
   ]
  },
  {
   "cell_type": "code",
   "execution_count": 7,
   "metadata": {},
   "outputs": [
    {
     "data": {
      "text/html": [
       "<div class='gpresult'><h2>Messages</h2><div id='messages' data-messages='[\"Start Time: Monday, April 29, 2024 12:51:55 PM\",\"Succeeded at Monday, April 29, 2024 12:52:51 PM (Elapsed Time: 56.66 seconds)\"]' data-show='true'><div id = 'default' /></div></div>"
      ],
      "text/plain": [
       "<Result 'K:\\\\projects\\\\rgmg\\\\MSGeoProject\\\\Projects\\\\Grid_Effort\\\\H3Grid_Inputs.gdb\\\\Temp\\\\H3_9_St_Cnty_EDA_WB8'>"
      ]
     },
     "execution_count": 7,
     "metadata": {},
     "output_type": "execute_result"
    }
   ],
   "source": [
    "arcpy.analysis.SpatialJoin(\n",
    "    target_features=r\"K:\\projects\\rgmg\\MSGeoProject\\Projects\\Grid_Effort\\H3Grid_Inputs.gdb\\Temp\\H3_9_St_Cnty_EDA\",\n",
    "    join_features=r\"K:\\projects\\rgmg\\MSGeoProject\\Projects\\Grid_Effort\\H3Grid_Inputs.gdb\\Inputs\\WBDHU8\",\n",
    "    out_feature_class=r\"K:\\projects\\rgmg\\MSGeoProject\\Projects\\Grid_Effort\\H3Grid_Inputs.gdb\\Temp\\H3_9_St_Cnty_EDA_WB8\",\n",
    "    join_operation=\"JOIN_ONE_TO_ONE\",\n",
    "    join_type=\"KEEP_ALL\",\n",
    "    field_mapping=r'GRID_ID \"GRID_ID\" true true false 17 Text 0 0,First,#,K:\\projects\\rgmg\\MSGeoProject\\Projects\\Grid_Effort\\H3Grid_Inputs.gdb\\Temp\\H3_9_St_Cnty_EDA,\\\n",
    "    GRID_ID,0,17;STATE_FP \"STATE_FP\" true true false 2 Text 0 0,First,#,K:\\projects\\rgmg\\MSGeoProject\\Projects\\Grid_Effort\\H3Grid_Inputs.gdb\\Temp\\H3_9_St_Cnty_EDA,\\\n",
    "    STATE_FP,0,2;STATE_AB \"STATE_AB\" true true false 2 Text 0 0,First,#,K:\\projects\\rgmg\\MSGeoProject\\Projects\\Grid_Effort\\H3Grid_Inputs.gdb\\Temp\\H3_9_St_Cnty_EDA,\\\n",
    "    STATE_AB,0,2;STATE_NM \"STATE_NM\" true true false 15 Text 0 0,First,#,K:\\projects\\rgmg\\MSGeoProject\\Projects\\Grid_Effort\\H3Grid_Inputs.gdb\\Temp\\H3_9_St_Cnty_EDA,\\\n",
    "    STATE_NM,0,15;COUNTY_FP \"COUNTY_FP\" true true false 3 Text 0 0,First,#,K:\\projects\\rgmg\\MSGeoProject\\Projects\\Grid_Effort\\H3Grid_Inputs.gdb\\Temp\\H3_9_St_Cnty_EDA,\\\n",
    "    COUNTY_FP,0,3;CNTY_NAME \"CNTY_NAME\" true true false 25 Text 0 0,First,#,K:\\projects\\rgmg\\MSGeoProject\\Projects\\Grid_Effort\\H3Grid_Inputs.gdb\\Temp\\H3_9_St_Cnty_EDA,\\\n",
    "    CNTY_NAME,0,25;GEO_ID \"GEO_ID\" true true false 5 Text 0 0,First,#,K:\\projects\\rgmg\\MSGeoProject\\Projects\\Grid_Effort\\H3Grid_Inputs.gdb\\Temp\\H3_9_St_Cnty_EDA,\\\n",
    "    GEO_ID,0,5;EDA_ID \"EDA_ID\" true true false 3 Text 0 0,First,#,K:\\projects\\rgmg\\MSGeoProject\\Projects\\Grid_Effort\\H3Grid_Inputs.gdb\\Temp\\H3_9_St_Cnty_EDA,\\\n",
    "    EDA_ID,0,3;EDA_NAME \"EDA_NAME\" true true false 100 Text 0 0,First,#,K:\\projects\\rgmg\\MSGeoProject\\Projects\\Grid_Effort\\H3Grid_Inputs.gdb\\Temp\\H3_9_St_Cnty_EDA,\\\n",
    "    EDA_NAME,0,100;HUC_8 \"HUC_8\" true true false 8 Text 0 0,First,#,K:\\projects\\rgmg\\MSGeoProject\\Projects\\Grid_Effort\\H3Grid_Inputs.gdb\\Inputs\\WBDHU8,HUC_8,0,8',\n",
    "    match_option=\"HAVE_THEIR_CENTER_IN\",\n",
    "    search_radius=None,\n",
    "    distance_field_name=\"\"\n",
    ")\n",
    "arcpy.management.DeleteField(\n",
    "    in_table=r\"K:\\projects\\rgmg\\MSGeoProject\\Projects\\Grid_Effort\\H3Grid_Inputs.gdb\\Temp\\H3_9_St_Cnty_EDA_WB8\",\n",
    "    drop_field=\"Join_Count;TARGET_FID\",\n",
    "    method=\"DELETE_FIELDS\"\n",
    ")"
   ]
  },
  {
   "cell_type": "code",
   "execution_count": 8,
   "metadata": {},
   "outputs": [
    {
     "data": {
      "text/html": [
       "<div class='gpresult'><h2>Messages</h2><div id='messages' data-messages='[\"Start Time: Monday, April 29, 2024 1:04:25 PM\",\"Succeeded at Monday, April 29, 2024 1:10:31 PM (Elapsed Time: 6 minutes 6 seconds)\"]' data-show='true'><div id = 'default' /></div></div>"
      ],
      "text/plain": [
       "<Result 'K:\\\\projects\\\\rgmg\\\\MSGeoProject\\\\Projects\\\\Grid_Effort\\\\H3Grid_Inputs.gdb\\\\Temp\\\\H3_10_St_Cnty_EDA_WB8'>"
      ]
     },
     "execution_count": 8,
     "metadata": {},
     "output_type": "execute_result"
    }
   ],
   "source": [
    "arcpy.analysis.SpatialJoin(\n",
    "    target_features=r\"K:\\projects\\rgmg\\MSGeoProject\\Projects\\Grid_Effort\\H3Grid_Inputs.gdb\\Temp\\H3_10_St_Cnty_EDA\",\n",
    "    join_features=r\"K:\\projects\\rgmg\\MSGeoProject\\Projects\\Grid_Effort\\H3Grid_Inputs.gdb\\Inputs\\WBDHU8\",\n",
    "    out_feature_class=r\"K:\\projects\\rgmg\\MSGeoProject\\Projects\\Grid_Effort\\H3Grid_Inputs.gdb\\Temp\\H3_10_St_Cnty_EDA_WB8\",\n",
    "    join_operation=\"JOIN_ONE_TO_ONE\",\n",
    "    join_type=\"KEEP_ALL\",\n",
    "    field_mapping=r'GRID_ID \"GRID_ID\" true true false 17 Text 0 0,First,#,K:\\projects\\rgmg\\MSGeoProject\\Projects\\Grid_Effort\\H3Grid_Inputs.gdb\\Temp\\H3_10_St_Cnty_EDA,\\\n",
    "    GRID_ID,0,17;STATE_FP \"STATE_FP\" true true false 2 Text 0 0,First,#,K:\\projects\\rgmg\\MSGeoProject\\Projects\\Grid_Effort\\H3Grid_Inputs.gdb\\Temp\\H3_10_St_Cnty_EDA,\\\n",
    "    STATE_FP,0,2;STATE_AB \"STATE_AB\" true true false 2 Text 0 0,First,#,K:\\projects\\rgmg\\MSGeoProject\\Projects\\Grid_Effort\\H3Grid_Inputs.gdb\\Temp\\H3_10_St_Cnty_EDA,\\\n",
    "    STATE_AB,0,2;STATE_NM \"STATE_NM\" true true false 15 Text 0 0,First,#,K:\\projects\\rgmg\\MSGeoProject\\Projects\\Grid_Effort\\H3Grid_Inputs.gdb\\Temp\\H3_10_St_Cnty_EDA,\\\n",
    "    STATE_NM,0,15;COUNTY_FP \"COUNTY_FP\" true true false 3 Text 0 0,First,#,K:\\projects\\rgmg\\MSGeoProject\\Projects\\Grid_Effort\\H3Grid_Inputs.gdb\\Temp\\H3_10_St_Cnty_EDA,\\\n",
    "    COUNTY_FP,0,3;CNTY_NAME \"CNTY_NAME\" true true false 25 Text 0 0,First,#,K:\\projects\\rgmg\\MSGeoProject\\Projects\\Grid_Effort\\H3Grid_Inputs.gdb\\Temp\\H3_10_St_Cnty_EDA,\\\n",
    "    CNTY_NAME,0,25;GEO_ID \"GEO_ID\" true true false 5 Text 0 0,First,#,K:\\projects\\rgmg\\MSGeoProject\\Projects\\Grid_Effort\\H3Grid_Inputs.gdb\\Temp\\H3_10_St_Cnty_EDA,\\\n",
    "    GEO_ID,0,5;EDA_ID \"EDA_ID\" true true false 3 Text 0 0,First,#,K:\\projects\\rgmg\\MSGeoProject\\Projects\\Grid_Effort\\H3Grid_Inputs.gdb\\Temp\\H3_10_St_Cnty_EDA,\\\n",
    "    EDA_ID,0,3;EDA_NAME \"EDA_NAME\" true true false 100 Text 0 0,First,#,K:\\projects\\rgmg\\MSGeoProject\\Projects\\Grid_Effort\\H3Grid_Inputs.gdb\\Temp\\H3_10_St_Cnty_EDA,\\\n",
    "    EDA_NAME,0,100;HUC_8 \"HUC_8\" true true false 8 Text 0 0,First,#,K:\\projects\\rgmg\\MSGeoProject\\Projects\\Grid_Effort\\H3Grid_Inputs.gdb\\Inputs\\WBDHU8,HUC_8,0,8',\n",
    "    match_option=\"HAVE_THEIR_CENTER_IN\",\n",
    "    search_radius=None,\n",
    "    distance_field_name=\"\"\n",
    ")\n",
    "arcpy.management.DeleteField(\n",
    "    in_table=r\"K:\\projects\\rgmg\\MSGeoProject\\Projects\\Grid_Effort\\H3Grid_Inputs.gdb\\Temp\\H3_10_St_Cnty_EDA_WB8\",\n",
    "    drop_field=\"Join_Count;TARGET_FID\",\n",
    "    method=\"DELETE_FIELDS\"\n",
    ")"
   ]
  },
  {
   "cell_type": "code",
   "execution_count": 2,
   "metadata": {},
   "outputs": [
    {
     "data": {
      "text/html": [
       "<div class='gpresult'><h2>Messages</h2><div id='messages' data-messages='[\"Start Time: Monday, April 29, 2024 1:56:55 PM\",\"Succeeded at Monday, April 29, 2024 1:56:57 PM (Elapsed Time: 2.02 seconds)\"]' data-show='true'><div id = 'default' /></div></div>"
      ],
      "text/plain": [
       "<Result 'K:\\\\projects\\\\rgmg\\\\MSGeoProject\\\\Projects\\\\Grid_Effort\\\\H3Grid_Inputs.gdb\\\\Temp\\\\H3_6_St_Cnty_EDA_WB8_WB12'>"
      ]
     },
     "execution_count": 2,
     "metadata": {},
     "output_type": "execute_result"
    }
   ],
   "source": [
    "arcpy.analysis.SpatialJoin(\n",
    "    target_features=r\"K:\\projects\\rgmg\\MSGeoProject\\Projects\\Grid_Effort\\H3Grid_Inputs.gdb\\Temp\\H3_6_St_Cnty_EDA_WB8\",\n",
    "    join_features=r\"K:\\projects\\rgmg\\MSGeoProject\\Projects\\Grid_Effort\\H3Grid_Inputs.gdb\\Inputs\\WBDHU12\",\n",
    "    out_feature_class=r\"K:\\projects\\rgmg\\MSGeoProject\\Projects\\Grid_Effort\\H3Grid_Inputs.gdb\\Temp\\H3_6_St_Cnty_EDA_WB8_WB12\",\n",
    "    join_operation=\"JOIN_ONE_TO_ONE\",\n",
    "    join_type=\"KEEP_ALL\",\n",
    "    field_mapping=r'GRID_ID \"GRID_ID\" true true false 17 Text 0 0,First,#,K:\\projects\\rgmg\\MSGeoProject\\Projects\\Grid_Effort\\H3Grid_Inputs.gdb\\Temp\\H3_6_St_Cnty_EDA_WB8,\\\n",
    "    GRID_ID,0,17;STATE_FP \"STATE_FP\" true true false 2 Text 0 0,First,#,K:\\projects\\rgmg\\MSGeoProject\\Projects\\Grid_Effort\\H3Grid_Inputs.gdb\\Temp\\H3_6_St_Cnty_EDA_WB8,\\\n",
    "    STATE_FP,0,2;STATE_AB \"STATE_AB\" true true false 2 Text 0 0,First,#,K:\\projects\\rgmg\\MSGeoProject\\Projects\\Grid_Effort\\H3Grid_Inputs.gdb\\Temp\\H3_6_St_Cnty_EDA_WB8,\\\n",
    "    STATE_AB,0,2;STATE_NM \"STATE_NM\" true true false 15 Text 0 0,First,#,K:\\projects\\rgmg\\MSGeoProject\\Projects\\Grid_Effort\\H3Grid_Inputs.gdb\\Temp\\H3_6_St_Cnty_EDA_WB8,\\\n",
    "    STATE_NM,0,15;COUNTY_FP \"COUNTY_FP\" true true false 3 Text 0 0,First,#,K:\\projects\\rgmg\\MSGeoProject\\Projects\\Grid_Effort\\H3Grid_Inputs.gdb\\Temp\\H3_6_St_Cnty_EDA_WB8,\\\n",
    "    COUNTY_FP,0,3;CNTY_NAME \"CNTY_NAME\" true true false 25 Text 0 0,First,#,K:\\projects\\rgmg\\MSGeoProject\\Projects\\Grid_Effort\\H3Grid_Inputs.gdb\\Temp\\H3_6_St_Cnty_EDA_WB8,\\\n",
    "    CNTY_NAME,0,25;GEO_ID \"GEO_ID\" true true false 5 Text 0 0,First,#,K:\\projects\\rgmg\\MSGeoProject\\Projects\\Grid_Effort\\H3Grid_Inputs.gdb\\Temp\\H3_6_St_Cnty_EDA_WB8,\\\n",
    "    GEO_ID,0,5;EDA_ID \"EDA_ID\" true true false 3 Text 0 0,First,#,K:\\projects\\rgmg\\MSGeoProject\\Projects\\Grid_Effort\\H3Grid_Inputs.gdb\\Temp\\H3_6_St_Cnty_EDA_WB8,\\\n",
    "    EDA_ID,0,3;EDA_NAME \"EDA_NAME\" true true false 100 Text 0 0,First,#,K:\\projects\\rgmg\\MSGeoProject\\Projects\\Grid_Effort\\H3Grid_Inputs.gdb\\Temp\\H3_6_St_Cnty_EDA_WB8,\\\n",
    "    EDA_NAME,0,100;HUC_8 \"HUC_8\" true true false 8 Text 0 0,First,#,K:\\projects\\rgmg\\MSGeoProject\\Projects\\Grid_Effort\\H3Grid_Inputs.gdb\\Temp\\H3_6_St_Cnty_EDA_WB8,\\\n",
    "    HUC_8,0,8;Shape_Length \"Shape_Length\" false true true 8 Double 0 0,First,#,K:\\projects\\rgmg\\MSGeoProject\\Projects\\Grid_Effort\\H3Grid_Inputs.gdb\\Temp\\H3_6_St_Cnty_EDA_WB8,\\\n",
    "    Shape_Length,-1,-1;Shape_Area \"Shape_Area\" false true true 8 Double 0 0,First,#,K:\\projects\\rgmg\\MSGeoProject\\Projects\\Grid_Effort\\H3Grid_Inputs.gdb\\Temp\\H3_6_St_Cnty_EDA_WB8,\\\n",
    "    Shape_Area,-1,-1;huc12 \"HUC12\" true true false 12 Text 0 0,First,#,K:\\projects\\rgmg\\MSGeoProject\\Projects\\Grid_Effort\\H3Grid_Inputs.gdb\\Inputs\\WBDHU12,huc12,0,12',\n",
    "    match_option=\"HAVE_THEIR_CENTER_IN\",\n",
    "    search_radius=None,\n",
    "    distance_field_name=\"\"\n",
    ")\n",
    "arcpy.management.DeleteField(\n",
    "    in_table=r\"K:\\projects\\rgmg\\MSGeoProject\\Projects\\Grid_Effort\\H3Grid_Inputs.gdb\\Temp\\H3_6_St_Cnty_EDA_WB8_WB12\",\n",
    "    drop_field=\"Join_Count;TARGET_FID\",\n",
    "    method=\"DELETE_FIELDS\"\n",
    ")"
   ]
  },
  {
   "cell_type": "code",
   "execution_count": 3,
   "metadata": {},
   "outputs": [
    {
     "data": {
      "text/html": [
       "<div class='gpresult'><h2>Messages</h2><div id='messages' data-messages='[\"Start Time: Monday, April 29, 2024 1:58:16 PM\",\"Succeeded at Monday, April 29, 2024 1:58:19 PM (Elapsed Time: 3.25 seconds)\"]' data-show='true'><div id = 'default' /></div></div>"
      ],
      "text/plain": [
       "<Result 'K:\\\\projects\\\\rgmg\\\\MSGeoProject\\\\Projects\\\\Grid_Effort\\\\H3Grid_Inputs.gdb\\\\Temp\\\\H3_7_St_Cnty_EDA_WB8_WB12'>"
      ]
     },
     "execution_count": 3,
     "metadata": {},
     "output_type": "execute_result"
    }
   ],
   "source": [
    "arcpy.analysis.SpatialJoin(\n",
    "    target_features=r\"K:\\projects\\rgmg\\MSGeoProject\\Projects\\Grid_Effort\\H3Grid_Inputs.gdb\\Temp\\H3_7_St_Cnty_EDA_WB8\",\n",
    "    join_features=r\"K:\\projects\\rgmg\\MSGeoProject\\Projects\\Grid_Effort\\H3Grid_Inputs.gdb\\Inputs\\WBDHU12\",\n",
    "    out_feature_class=r\"K:\\projects\\rgmg\\MSGeoProject\\Projects\\Grid_Effort\\H3Grid_Inputs.gdb\\Temp\\H3_7_St_Cnty_EDA_WB8_WB12\",\n",
    "    join_operation=\"JOIN_ONE_TO_ONE\",\n",
    "    join_type=\"KEEP_ALL\",\n",
    "    field_mapping=r'GRID_ID \"GRID_ID\" true true false 17 Text 0 0,First,#,K:\\projects\\rgmg\\MSGeoProject\\Projects\\Grid_Effort\\H3Grid_Inputs.gdb\\Temp\\H3_7_St_Cnty_EDA_WB8,\\\n",
    "    GRID_ID,0,17;STATE_FP \"STATE_FP\" true true false 2 Text 0 0,First,#,K:\\projects\\rgmg\\MSGeoProject\\Projects\\Grid_Effort\\H3Grid_Inputs.gdb\\Temp\\H3_7_St_Cnty_EDA_WB8,\\\n",
    "    STATE_FP,0,2;STATE_AB \"STATE_AB\" true true false 2 Text 0 0,First,#,K:\\projects\\rgmg\\MSGeoProject\\Projects\\Grid_Effort\\H3Grid_Inputs.gdb\\Temp\\H3_7_St_Cnty_EDA_WB8,\\\n",
    "    STATE_AB,0,2;STATE_NM \"STATE_NM\" true true false 15 Text 0 0,First,#,K:\\projects\\rgmg\\MSGeoProject\\Projects\\Grid_Effort\\H3Grid_Inputs.gdb\\Temp\\H3_7_St_Cnty_EDA_WB8,\\\n",
    "    STATE_NM,0,15;COUNTY_FP \"COUNTY_FP\" true true false 3 Text 0 0,First,#,K:\\projects\\rgmg\\MSGeoProject\\Projects\\Grid_Effort\\H3Grid_Inputs.gdb\\Temp\\H3_7_St_Cnty_EDA_WB8,\\\n",
    "    COUNTY_FP,0,3;CNTY_NAME \"CNTY_NAME\" true true false 25 Text 0 0,First,#,K:\\projects\\rgmg\\MSGeoProject\\Projects\\Grid_Effort\\H3Grid_Inputs.gdb\\Temp\\H3_7_St_Cnty_EDA_WB8,\\\n",
    "    CNTY_NAME,0,25;GEO_ID \"GEO_ID\" true true false 5 Text 0 0,First,#,K:\\projects\\rgmg\\MSGeoProject\\Projects\\Grid_Effort\\H3Grid_Inputs.gdb\\Temp\\H3_7_St_Cnty_EDA_WB8,\\\n",
    "    GEO_ID,0,5;EDA_ID \"EDA_ID\" true true false 3 Text 0 0,First,#,K:\\projects\\rgmg\\MSGeoProject\\Projects\\Grid_Effort\\H3Grid_Inputs.gdb\\Temp\\H3_7_St_Cnty_EDA_WB8,\\\n",
    "    EDA_ID,0,3;EDA_NAME \"EDA_NAME\" true true false 100 Text 0 0,First,#,K:\\projects\\rgmg\\MSGeoProject\\Projects\\Grid_Effort\\H3Grid_Inputs.gdb\\Temp\\H3_7_St_Cnty_EDA_WB8,\\\n",
    "    EDA_NAME,0,100;HUC_8 \"HUC_8\" true true false 8 Text 0 0,First,#,K:\\projects\\rgmg\\MSGeoProject\\Projects\\Grid_Effort\\H3Grid_Inputs.gdb\\Temp\\H3_7_St_Cnty_EDA_WB8,\\\n",
    "    HUC_8,0,8;Shape_Length \"Shape_Length\" false true true 8 Double 0 0,First,#,K:\\projects\\rgmg\\MSGeoProject\\Projects\\Grid_Effort\\H3Grid_Inputs.gdb\\Temp\\H3_7_St_Cnty_EDA_WB8,\\\n",
    "    Shape_Length,-1,-1;Shape_Area \"Shape_Area\" false true true 8 Double 0 0,First,#,K:\\projects\\rgmg\\MSGeoProject\\Projects\\Grid_Effort\\H3Grid_Inputs.gdb\\Temp\\H3_7_St_Cnty_EDA_WB8,\\\n",
    "    Shape_Area,-1,-1;huc12 \"HUC12\" true true false 12 Text 0 0,First,#,K:\\projects\\rgmg\\MSGeoProject\\Projects\\Grid_Effort\\H3Grid_Inputs.gdb\\Inputs\\WBDHU12,huc12,0,12',\n",
    "    match_option=\"HAVE_THEIR_CENTER_IN\",\n",
    "    search_radius=None,\n",
    "    distance_field_name=\"\"\n",
    ")\n",
    "arcpy.management.DeleteField(\n",
    "    in_table=r\"K:\\projects\\rgmg\\MSGeoProject\\Projects\\Grid_Effort\\H3Grid_Inputs.gdb\\Temp\\H3_7_St_Cnty_EDA_WB8_WB12\",\n",
    "    drop_field=\"Join_Count;TARGET_FID\",\n",
    "    method=\"DELETE_FIELDS\"\n",
    ")"
   ]
  },
  {
   "cell_type": "code",
   "execution_count": 4,
   "metadata": {},
   "outputs": [
    {
     "data": {
      "text/html": [
       "<div class='gpresult'><h2>Messages</h2><div id='messages' data-messages='[\"Start Time: Monday, April 29, 2024 2:00:11 PM\",\"Succeeded at Monday, April 29, 2024 2:00:21 PM (Elapsed Time: 10.38 seconds)\"]' data-show='true'><div id = 'default' /></div></div>"
      ],
      "text/plain": [
       "<Result 'K:\\\\projects\\\\rgmg\\\\MSGeoProject\\\\Projects\\\\Grid_Effort\\\\H3Grid_Inputs.gdb\\\\Temp\\\\H3_8_St_Cnty_EDA_WB8_WB12'>"
      ]
     },
     "execution_count": 4,
     "metadata": {},
     "output_type": "execute_result"
    }
   ],
   "source": [
    "arcpy.analysis.SpatialJoin(\n",
    "    target_features=r\"K:\\projects\\rgmg\\MSGeoProject\\Projects\\Grid_Effort\\H3Grid_Inputs.gdb\\Temp\\H3_8_St_Cnty_EDA_WB8\",\n",
    "    join_features=r\"K:\\projects\\rgmg\\MSGeoProject\\Projects\\Grid_Effort\\H3Grid_Inputs.gdb\\Inputs\\WBDHU12\",\n",
    "    out_feature_class=r\"K:\\projects\\rgmg\\MSGeoProject\\Projects\\Grid_Effort\\H3Grid_Inputs.gdb\\Temp\\H3_8_St_Cnty_EDA_WB8_WB12\",\n",
    "    join_operation=\"JOIN_ONE_TO_ONE\",\n",
    "    join_type=\"KEEP_ALL\",\n",
    "    field_mapping=r'GRID_ID \"GRID_ID\" true true false 17 Text 0 0,First,#,K:\\projects\\rgmg\\MSGeoProject\\Projects\\Grid_Effort\\H3Grid_Inputs.gdb\\Temp\\H3_8_St_Cnty_EDA_WB8,\\\n",
    "    GRID_ID,0,17;STATE_FP \"STATE_FP\" true true false 2 Text 0 0,First,#,K:\\projects\\rgmg\\MSGeoProject\\Projects\\Grid_Effort\\H3Grid_Inputs.gdb\\Temp\\H3_8_St_Cnty_EDA_WB8,\\\n",
    "    STATE_FP,0,2;STATE_AB \"STATE_AB\" true true false 2 Text 0 0,First,#,K:\\projects\\rgmg\\MSGeoProject\\Projects\\Grid_Effort\\H3Grid_Inputs.gdb\\Temp\\H3_8_St_Cnty_EDA_WB8,\\\n",
    "    STATE_AB,0,2;STATE_NM \"STATE_NM\" true true false 15 Text 0 0,First,#,K:\\projects\\rgmg\\MSGeoProject\\Projects\\Grid_Effort\\H3Grid_Inputs.gdb\\Temp\\H3_8_St_Cnty_EDA_WB8,\\\n",
    "    STATE_NM,0,15;COUNTY_FP \"COUNTY_FP\" true true false 3 Text 0 0,First,#,K:\\projects\\rgmg\\MSGeoProject\\Projects\\Grid_Effort\\H3Grid_Inputs.gdb\\Temp\\H3_8_St_Cnty_EDA_WB8,\\\n",
    "    COUNTY_FP,0,3;CNTY_NAME \"CNTY_NAME\" true true false 25 Text 0 0,First,#,K:\\projects\\rgmg\\MSGeoProject\\Projects\\Grid_Effort\\H3Grid_Inputs.gdb\\Temp\\H3_8_St_Cnty_EDA_WB8,\\\n",
    "    CNTY_NAME,0,25;GEO_ID \"GEO_ID\" true true false 5 Text 0 0,First,#,K:\\projects\\rgmg\\MSGeoProject\\Projects\\Grid_Effort\\H3Grid_Inputs.gdb\\Temp\\H3_8_St_Cnty_EDA_WB8,\\\n",
    "    GEO_ID,0,5;EDA_ID \"EDA_ID\" true true false 3 Text 0 0,First,#,K:\\projects\\rgmg\\MSGeoProject\\Projects\\Grid_Effort\\H3Grid_Inputs.gdb\\Temp\\H3_8_St_Cnty_EDA_WB8,\\\n",
    "    EDA_ID,0,3;EDA_NAME \"EDA_NAME\" true true false 100 Text 0 0,First,#,K:\\projects\\rgmg\\MSGeoProject\\Projects\\Grid_Effort\\H3Grid_Inputs.gdb\\Temp\\H3_8_St_Cnty_EDA_WB8,\\\n",
    "    EDA_NAME,0,100;HUC_8 \"HUC_8\" true true false 8 Text 0 0,First,#,K:\\projects\\rgmg\\MSGeoProject\\Projects\\Grid_Effort\\H3Grid_Inputs.gdb\\Temp\\H3_8_St_Cnty_EDA_WB8,\\\n",
    "    HUC_8,0,8;Shape_Length \"Shape_Length\" false true true 8 Double 0 0,First,#,K:\\projects\\rgmg\\MSGeoProject\\Projects\\Grid_Effort\\H3Grid_Inputs.gdb\\Temp\\H3_8_St_Cnty_EDA_WB8,\\\n",
    "    Shape_Length,-1,-1;Shape_Area \"Shape_Area\" false true true 8 Double 0 0,First,#,K:\\projects\\rgmg\\MSGeoProject\\Projects\\Grid_Effort\\H3Grid_Inputs.gdb\\Temp\\H3_8_St_Cnty_EDA_WB8,\\\n",
    "    Shape_Area,-1,-1;huc12 \"HUC12\" true true false 12 Text 0 0,First,#,K:\\projects\\rgmg\\MSGeoProject\\Projects\\Grid_Effort\\H3Grid_Inputs.gdb\\Inputs\\WBDHU12,huc12,0,12',\n",
    "    match_option=\"HAVE_THEIR_CENTER_IN\",\n",
    "    search_radius=None,\n",
    "    distance_field_name=\"\"\n",
    ")\n",
    "arcpy.management.DeleteField(\n",
    "    in_table=r\"K:\\projects\\rgmg\\MSGeoProject\\Projects\\Grid_Effort\\H3Grid_Inputs.gdb\\Temp\\H3_8_St_Cnty_EDA_WB8_WB12\",\n",
    "    drop_field=\"Join_Count;TARGET_FID\",\n",
    "    method=\"DELETE_FIELDS\"\n",
    ")"
   ]
  },
  {
   "cell_type": "code",
   "execution_count": 5,
   "metadata": {},
   "outputs": [
    {
     "data": {
      "text/html": [
       "<div class='gpresult'><h2>Messages</h2><div id='messages' data-messages='[\"Start Time: Monday, April 29, 2024 2:05:47 PM\",\"Succeeded at Monday, April 29, 2024 2:06:44 PM (Elapsed Time: 56.36 seconds)\"]' data-show='true'><div id = 'default' /></div></div>"
      ],
      "text/plain": [
       "<Result 'K:\\\\projects\\\\rgmg\\\\MSGeoProject\\\\Projects\\\\Grid_Effort\\\\H3Grid_Inputs.gdb\\\\Temp\\\\H3_9_St_Cnty_EDA_WB8_WB12'>"
      ]
     },
     "execution_count": 5,
     "metadata": {},
     "output_type": "execute_result"
    }
   ],
   "source": [
    "arcpy.analysis.SpatialJoin(\n",
    "    target_features=r\"K:\\projects\\rgmg\\MSGeoProject\\Projects\\Grid_Effort\\H3Grid_Inputs.gdb\\Temp\\H3_9_St_Cnty_EDA_WB8\",\n",
    "    join_features=r\"K:\\projects\\rgmg\\MSGeoProject\\Projects\\Grid_Effort\\H3Grid_Inputs.gdb\\Inputs\\WBDHU12\",\n",
    "    out_feature_class=r\"K:\\projects\\rgmg\\MSGeoProject\\Projects\\Grid_Effort\\H3Grid_Inputs.gdb\\Temp\\H3_9_St_Cnty_EDA_WB8_WB12\",\n",
    "    join_operation=\"JOIN_ONE_TO_ONE\",\n",
    "    join_type=\"KEEP_ALL\",\n",
    "    field_mapping=r'GRID_ID \"GRID_ID\" true true false 17 Text 0 0,First,#,K:\\projects\\rgmg\\MSGeoProject\\Projects\\Grid_Effort\\H3Grid_Inputs.gdb\\Temp\\H3_9_St_Cnty_EDA_WB8,\\\n",
    "    GRID_ID,0,17;STATE_FP \"STATE_FP\" true true false 2 Text 0 0,First,#,K:\\projects\\rgmg\\MSGeoProject\\Projects\\Grid_Effort\\H3Grid_Inputs.gdb\\Temp\\H3_9_St_Cnty_EDA_WB8,\\\n",
    "    STATE_FP,0,2;STATE_AB \"STATE_AB\" true true false 2 Text 0 0,First,#,K:\\projects\\rgmg\\MSGeoProject\\Projects\\Grid_Effort\\H3Grid_Inputs.gdb\\Temp\\H3_9_St_Cnty_EDA_WB8,\\\n",
    "    STATE_AB,0,2;STATE_NM \"STATE_NM\" true true false 15 Text 0 0,First,#,K:\\projects\\rgmg\\MSGeoProject\\Projects\\Grid_Effort\\H3Grid_Inputs.gdb\\Temp\\H3_9_St_Cnty_EDA_WB8,\\\n",
    "    STATE_NM,0,15;COUNTY_FP \"COUNTY_FP\" true true false 3 Text 0 0,First,#,K:\\projects\\rgmg\\MSGeoProject\\Projects\\Grid_Effort\\H3Grid_Inputs.gdb\\Temp\\H3_9_St_Cnty_EDA_WB8,\\\n",
    "    COUNTY_FP,0,3;CNTY_NAME \"CNTY_NAME\" true true false 25 Text 0 0,First,#,K:\\projects\\rgmg\\MSGeoProject\\Projects\\Grid_Effort\\H3Grid_Inputs.gdb\\Temp\\H3_9_St_Cnty_EDA_WB8,\\\n",
    "    CNTY_NAME,0,25;GEO_ID \"GEO_ID\" true true false 5 Text 0 0,First,#,K:\\projects\\rgmg\\MSGeoProject\\Projects\\Grid_Effort\\H3Grid_Inputs.gdb\\Temp\\H3_9_St_Cnty_EDA_WB8,\\\n",
    "    GEO_ID,0,5;EDA_ID \"EDA_ID\" true true false 3 Text 0 0,First,#,K:\\projects\\rgmg\\MSGeoProject\\Projects\\Grid_Effort\\H3Grid_Inputs.gdb\\Temp\\H3_9_St_Cnty_EDA_WB8,\\\n",
    "    EDA_ID,0,3;EDA_NAME \"EDA_NAME\" true true false 100 Text 0 0,First,#,K:\\projects\\rgmg\\MSGeoProject\\Projects\\Grid_Effort\\H3Grid_Inputs.gdb\\Temp\\H3_9_St_Cnty_EDA_WB8,\\\n",
    "    EDA_NAME,0,100;HUC_8 \"HUC_8\" true true false 8 Text 0 0,First,#,K:\\projects\\rgmg\\MSGeoProject\\Projects\\Grid_Effort\\H3Grid_Inputs.gdb\\Temp\\H3_9_St_Cnty_EDA_WB8,\\\n",
    "    HUC_8,0,8;Shape_Length \"Shape_Length\" false true true 8 Double 0 0,First,#,K:\\projects\\rgmg\\MSGeoProject\\Projects\\Grid_Effort\\H3Grid_Inputs.gdb\\Temp\\H3_9_St_Cnty_EDA_WB8,\\\n",
    "    Shape_Length,-1,-1;Shape_Area \"Shape_Area\" false true true 8 Double 0 0,First,#,K:\\projects\\rgmg\\MSGeoProject\\Projects\\Grid_Effort\\H3Grid_Inputs.gdb\\Temp\\H3_9_St_Cnty_EDA_WB8,\\\n",
    "    Shape_Area,-1,-1;huc12 \"HUC12\" true true false 12 Text 0 0,First,#,K:\\projects\\rgmg\\MSGeoProject\\Projects\\Grid_Effort\\H3Grid_Inputs.gdb\\Inputs\\WBDHU12,huc12,0,12',\n",
    "    match_option=\"HAVE_THEIR_CENTER_IN\",\n",
    "    search_radius=None,\n",
    "    distance_field_name=\"\"\n",
    ")\n",
    "arcpy.management.DeleteField(\n",
    "    in_table=r\"K:\\projects\\rgmg\\MSGeoProject\\Projects\\Grid_Effort\\H3Grid_Inputs.gdb\\Temp\\H3_9_St_Cnty_EDA_WB8_WB12\",\n",
    "    drop_field=\"Join_Count;TARGET_FID\",\n",
    "    method=\"DELETE_FIELDS\"\n",
    ")"
   ]
  },
  {
   "cell_type": "code",
   "execution_count": 6,
   "metadata": {},
   "outputs": [
    {
     "data": {
      "text/html": [
       "<div class='gpresult'><h2>Messages</h2><div id='messages' data-messages='[\"Start Time: Monday, April 29, 2024 2:15:26 PM\",\"Succeeded at Monday, April 29, 2024 2:21:36 PM (Elapsed Time: 6 minutes 10 seconds)\"]' data-show='true'><div id = 'default' /></div></div>"
      ],
      "text/plain": [
       "<Result 'K:\\\\projects\\\\rgmg\\\\MSGeoProject\\\\Projects\\\\Grid_Effort\\\\H3Grid_Inputs.gdb\\\\Temp\\\\H3_10_St_Cnty_EDA_WB8_WB12'>"
      ]
     },
     "execution_count": 6,
     "metadata": {},
     "output_type": "execute_result"
    }
   ],
   "source": [
    "arcpy.analysis.SpatialJoin(\n",
    "    target_features=r\"K:\\projects\\rgmg\\MSGeoProject\\Projects\\Grid_Effort\\H3Grid_Inputs.gdb\\Temp\\H3_10_St_Cnty_EDA_WB8\",\n",
    "    join_features=r\"K:\\projects\\rgmg\\MSGeoProject\\Projects\\Grid_Effort\\H3Grid_Inputs.gdb\\Inputs\\WBDHU12\",\n",
    "    out_feature_class=r\"K:\\projects\\rgmg\\MSGeoProject\\Projects\\Grid_Effort\\H3Grid_Inputs.gdb\\Temp\\H3_10_St_Cnty_EDA_WB8_WB12\",\n",
    "    join_operation=\"JOIN_ONE_TO_ONE\",\n",
    "    join_type=\"KEEP_ALL\",\n",
    "    field_mapping=r'GRID_ID \"GRID_ID\" true true false 17 Text 0 0,First,#,K:\\projects\\rgmg\\MSGeoProject\\Projects\\Grid_Effort\\H3Grid_Inputs.gdb\\Temp\\H3_10_St_Cnty_EDA_WB8,\\\n",
    "    GRID_ID,0,17;STATE_FP \"STATE_FP\" true true false 2 Text 0 0,First,#,K:\\projects\\rgmg\\MSGeoProject\\Projects\\Grid_Effort\\H3Grid_Inputs.gdb\\Temp\\H3_10_St_Cnty_EDA_WB8,\\\n",
    "    STATE_FP,0,2;STATE_AB \"STATE_AB\" true true false 2 Text 0 0,First,#,K:\\projects\\rgmg\\MSGeoProject\\Projects\\Grid_Effort\\H3Grid_Inputs.gdb\\Temp\\H3_10_St_Cnty_EDA_WB8,\\\n",
    "    STATE_AB,0,2;STATE_NM \"STATE_NM\" true true false 15 Text 0 0,First,#,K:\\projects\\rgmg\\MSGeoProject\\Projects\\Grid_Effort\\H3Grid_Inputs.gdb\\Temp\\H3_10_St_Cnty_EDA_WB8,\\\n",
    "    STATE_NM,0,15;COUNTY_FP \"COUNTY_FP\" true true false 3 Text 0 0,First,#,K:\\projects\\rgmg\\MSGeoProject\\Projects\\Grid_Effort\\H3Grid_Inputs.gdb\\Temp\\H3_10_St_Cnty_EDA_WB8,\\\n",
    "    COUNTY_FP,0,3;CNTY_NAME \"CNTY_NAME\" true true false 25 Text 0 0,First,#,K:\\projects\\rgmg\\MSGeoProject\\Projects\\Grid_Effort\\H3Grid_Inputs.gdb\\Temp\\H3_10_St_Cnty_EDA_WB8,\\\n",
    "    CNTY_NAME,0,25;GEO_ID \"GEO_ID\" true true false 5 Text 0 0,First,#,K:\\projects\\rgmg\\MSGeoProject\\Projects\\Grid_Effort\\H3Grid_Inputs.gdb\\Temp\\H3_10_St_Cnty_EDA_WB8,\\\n",
    "    GEO_ID,0,5;EDA_ID \"EDA_ID\" true true false 3 Text 0 0,First,#,K:\\projects\\rgmg\\MSGeoProject\\Projects\\Grid_Effort\\H3Grid_Inputs.gdb\\Temp\\H3_10_St_Cnty_EDA_WB8,\\\n",
    "    EDA_ID,0,3;EDA_NAME \"EDA_NAME\" true true false 100 Text 0 0,First,#,K:\\projects\\rgmg\\MSGeoProject\\Projects\\Grid_Effort\\H3Grid_Inputs.gdb\\Temp\\H3_10_St_Cnty_EDA_WB8,\\\n",
    "    EDA_NAME,0,100;HUC_8 \"HUC_8\" true true false 8 Text 0 0,First,#,K:\\projects\\rgmg\\MSGeoProject\\Projects\\Grid_Effort\\H3Grid_Inputs.gdb\\Temp\\H3_10_St_Cnty_EDA_WB8,\\\n",
    "    HUC_8,0,8;Shape_Length \"Shape_Length\" false true true 8 Double 0 0,First,#,K:\\projects\\rgmg\\MSGeoProject\\Projects\\Grid_Effort\\H3Grid_Inputs.gdb\\Temp\\H3_10_St_Cnty_EDA_WB8,\\\n",
    "    Shape_Length,-1,-1;Shape_Area \"Shape_Area\" false true true 8 Double 0 0,First,#,K:\\projects\\rgmg\\MSGeoProject\\Projects\\Grid_Effort\\H3Grid_Inputs.gdb\\Temp\\H3_10_St_Cnty_EDA_WB8,\\\n",
    "    Shape_Area,-1,-1;huc12 \"HUC12\" true true false 12 Text 0 0,First,#,K:\\projects\\rgmg\\MSGeoProject\\Projects\\Grid_Effort\\H3Grid_Inputs.gdb\\Inputs\\WBDHU12,huc12,0,12',\n",
    "    match_option=\"HAVE_THEIR_CENTER_IN\",\n",
    "    search_radius=None,\n",
    "    distance_field_name=\"\"\n",
    ")\n",
    "arcpy.management.DeleteField(\n",
    "    in_table=r\"K:\\projects\\rgmg\\MSGeoProject\\Projects\\Grid_Effort\\H3Grid_Inputs.gdb\\Temp\\H3_10_St_Cnty_EDA_WB8_WB12\",\n",
    "    drop_field=\"Join_Count;TARGET_FID\",\n",
    "    method=\"DELETE_FIELDS\"\n",
    ")"
   ]
  },
  {
   "cell_type": "code",
   "execution_count": 7,
   "metadata": {},
   "outputs": [
    {
     "data": {
      "text/html": [
       "<div class='gpresult'><h2>Messages</h2><div id='messages' data-messages='[\"Start Time: Tuesday, May 7, 2024 3:42:52 PM\",\"Succeeded at Tuesday, May 7, 2024 3:50:01 PM (Elapsed Time: 7 minutes 9 seconds)\"]' data-show='true'><div id = 'default' /></div></div>"
      ],
      "text/plain": [
       "<Result 'K:\\\\projects\\\\rgmg\\\\MSGeoProject\\\\Projects\\\\Grid_Effort\\\\H3Grid_Inputs.gdb\\\\Temp\\\\H3_10_St_Cnty_EDA_WB8_WB12_Lnd_Wtr'>"
      ]
     },
     "execution_count": 7,
     "metadata": {},
     "output_type": "execute_result"
    }
   ],
   "source": []
  },
  {
   "cell_type": "code",
   "execution_count": 20,
   "metadata": {},
   "outputs": [],
   "source": [
    "arcpy.analysis.SpatialJoin(\n",
    "    target_features=r\"K:\\projects\\rgmg\\MSGeoProject\\Projects\\Grid_Effort\\H3Grid_Inputs.gdb\\Temp\\H3_5_St_Cnty_EDA_WB8_WB12\",\n",
    "    join_features=r\"K:\\projects\\rgmg\\MSGeoProject\\Projects\\Grid_Effort\\H3Grid_Inputs.gdb\\Inputs\\dtl_cnty_Census_ESRI\",\n",
    "    out_feature_class=r\"K:\\projects\\rgmg\\MSGeoProject\\Projects\\Grid_Effort\\H3Grid_Inputs.gdb\\Temp\\H3_5_St_Cnty_EDA_WB8_WB12_Lnd_Wtr\",\n",
    "    join_operation=\"JOIN_ONE_TO_ONE\",\n",
    "    join_type=\"KEEP_ALL\",\n",
    "    field_mapping=r'GRID_ID \"GRID_ID\" true true false 17 Text 0 0,First,#,\\\n",
    "    K:\\projects\\rgmg\\MSGeoProject\\Projects\\Grid_Effort\\H3Grid_Inputs.gdb\\Temp\\H3_5_St_Cnty_EDA_WB8_WB12,GRID_ID,0,17;STATE_FP \"STATE_FP\" true true false 2 Text 0 0,First,#,\\\n",
    "    K:\\projects\\rgmg\\MSGeoProject\\Projects\\Grid_Effort\\H3Grid_Inputs.gdb\\Temp\\H3_5_St_Cnty_EDA_WB8_WB12,STATE_FP,0,2;STATE_AB \"STATE_AB\" true true false 2 Text 0 0,First,#,\\\n",
    "    K:\\projects\\rgmg\\MSGeoProject\\Projects\\Grid_Effort\\H3Grid_Inputs.gdb\\Temp\\H3_5_St_Cnty_EDA_WB8_WB12,STATE_AB,0,2;STATE_NM \"STATE_NM\" true true false 15 Text 0 0,First,#,\\\n",
    "    K:\\projects\\rgmg\\MSGeoProject\\Projects\\Grid_Effort\\H3Grid_Inputs.gdb\\Temp\\H3_5_St_Cnty_EDA_WB8_WB12,STATE_NM,0,15;COUNTY_FP \"COUNTY_FP\" true true false 3 Text 0 0,First,#,\\\n",
    "    K:\\projects\\rgmg\\MSGeoProject\\Projects\\Grid_Effort\\H3Grid_Inputs.gdb\\Temp\\H3_5_St_Cnty_EDA_WB8_WB12,COUNTY_FP,0,3;CNTY_NAME \"CNTY_NAME\" true true false 25 Text 0 0,First,#,\\\n",
    "    K:\\projects\\rgmg\\MSGeoProject\\Projects\\Grid_Effort\\H3Grid_Inputs.gdb\\Temp\\H3_5_St_Cnty_EDA_WB8_WB12,CNTY_NAME,0,25;GEO_ID \"GEO_ID\" true true false 5 Text 0 0,First,#,\\\n",
    "    K:\\projects\\rgmg\\MSGeoProject\\Projects\\Grid_Effort\\H3Grid_Inputs.gdb\\Temp\\H3_5_St_Cnty_EDA_WB8_WB12,GEO_ID,0,5;EDA_ID \"EDA_ID\" true true false 3 Text 0 0,First,#,\\\n",
    "    K:\\projects\\rgmg\\MSGeoProject\\Projects\\Grid_Effort\\H3Grid_Inputs.gdb\\Temp\\H3_5_St_Cnty_EDA_WB8_WB12,EDA_ID,0,3;EDA_NAME \"EDA_NAME\" true true false 100 Text 0 0,First,#,\\\n",
    "    K:\\projects\\rgmg\\MSGeoProject\\Projects\\Grid_Effort\\H3Grid_Inputs.gdb\\Temp\\H3_5_St_Cnty_EDA_WB8_WB12,EDA_NAME,0,100;HUC_8 \"HUC_8\" true true false 8 Text 0 0,First,#,\\\n",
    "    K:\\projects\\rgmg\\MSGeoProject\\Projects\\Grid_Effort\\H3Grid_Inputs.gdb\\Temp\\H3_5_St_Cnty_EDA_WB8_WB12,HUC_8,0,8;huc12 \"HUC12\" true true false 12 Text 0 0,First,#,\\\n",
    "    K:\\projects\\rgmg\\MSGeoProject\\Projects\\Grid_Effort\\H3Grid_Inputs.gdb\\Temp\\H3_5_St_Cnty_EDA_WB8_WB12,huc12,0,12;Shape_Length \"Shape_Length\" false true true 8 Double 0 0,First,#,\\\n",
    "    K:\\projects\\rgmg\\MSGeoProject\\Projects\\Grid_Effort\\H3Grid_Inputs.gdb\\Temp\\H3_5_St_Cnty_EDA_WB8_WB12,Shape_Length,-1,-1;Shape_Area \"Shape_Area\" false true true 8 Double 0 0,First,#,\\\n",
    "    K:\\projects\\rgmg\\MSGeoProject\\Projects\\Grid_Effort\\H3Grid_Inputs.gdb\\Temp\\H3_5_St_Cnty_EDA_WB8_WB12,Shape_Area,-1,-1;FIPS_Lnd_Wtr \"FIPS_Land_Wtr\" true true false 15 Text 0 0,First,#,\\\n",
    "    K:\\projects\\rgmg\\MSGeoProject\\Projects\\Grid_Effort\\H3Grid_Inputs.gdb\\Inputs\\dtl_cnty_Census_ESRI,FIPS_Lnd_Wtr,0,15;POP_SQMI \"POP20_SQMI\" true true false 8 Double 0 0,First,#,\\\n",
    "    K:\\projects\\rgmg\\MSGeoProject\\Projects\\Grid_Effort\\H3Grid_Inputs.gdb\\Inputs\\dtl_cnty_Census_ESRI,POP_SQMI,-1,-1',\n",
    "    match_option=\"HAVE_THEIR_CENTER_IN\",\n",
    "    search_radius=None,\n",
    "    distance_field_name=\"\"\n",
    ")\n",
    "arcpy.management.DeleteField(\n",
    "    in_table=r\"K:\\projects\\rgmg\\MSGeoProject\\Projects\\Grid_Effort\\H3Grid_Inputs.gdb\\Temp\\H3_5_St_Cnty_EDA_WB8_WB12_Lnd_Wtr\",\n",
    "    drop_field=\"Join_Count;TARGET_FID\",\n",
    "    method=\"DELETE_FIELDS\"\n",
    ")\n",
    "# replace the None values with \"\" for 'GEO_ID' and 'FIPS_Lnd_Wtr' fields \n",
    "\n",
    "path = r\"K:\\projects\\rgmg\\MSGeoProject\\Projects\\Grid_Effort\\H3Grid_Inputs.gdb\\Temp\\H3_5_St_Cnty_EDA_WB8_WB12_Lnd_Wtr\"\n",
    "\n",
    "fieldNames = ['GEO_ID', 'FIPS_Lnd_Wtr']  \n",
    "fieldCount = len(fieldNames)  \n",
    "\n",
    "with arcpy.da.UpdateCursor(path, fieldNames) as curU:  \n",
    "    for row in curU:  \n",
    "        rowU = row  \n",
    "        for field in range(fieldCount):  \n",
    "            if rowU[field] == None:  \n",
    "                rowU[field] = \"\"  \n",
    "      \n",
    "      \n",
    "        curU.updateRow(rowU)\n",
    "\n",
    "del curU"
   ]
  },
  {
   "cell_type": "code",
   "execution_count": 8,
   "metadata": {},
   "outputs": [
    {
     "data": {
      "text/html": [
       "<div class='gpresult'><h2>Messages</h2><div id='messages' data-messages='[\"Start Time: Tuesday, May 7, 2024 4:05:08 PM\",\"Succeeded at Tuesday, May 7, 2024 4:05:12 PM (Elapsed Time: 4.33 seconds)\"]' data-show='true'><div id = 'default' /></div></div>"
      ],
      "text/plain": [
       "<Result 'K:\\\\projects\\\\rgmg\\\\MSGeoProject\\\\Projects\\\\Grid_Effort\\\\H3Grid_Inputs.gdb\\\\Temp\\\\H3_6_St_Cnty_EDA_WB8_WB12_Lnd_Wtr'>"
      ]
     },
     "execution_count": 8,
     "metadata": {},
     "output_type": "execute_result"
    }
   ],
   "source": []
  },
  {
   "cell_type": "code",
   "execution_count": 16,
   "metadata": {},
   "outputs": [],
   "source": [
    "# replace the  values with \"\" for 'GEO_ID' and 'FIPS_Lnd_Wtr' fields \n",
    "path =r\"K:\\projects\\rgmg\\MSGeoProject\\Projects\\Grid_Effort\\H3Grid_Inputs.gdb\\Temp\\H3_5_St_Cnty_EDA_WB8_WB12_Lnd_Wtr\"\n",
    "\n",
    "\n",
    "fieldNames = ['GEO_ID', 'FIPS_Lnd_Wtr']  \n",
    "fieldCount = len(fieldNames)  \n",
    "\n",
    "with arcpy.da.UpdateCursor(path, fieldNames) as curU:  \n",
    "    for row in curU:  \n",
    "        rowU = row  \n",
    "        for field in range(fieldCount):  \n",
    "            if rowU[field] == None:  \n",
    "                rowU[field] = \"\"  \n",
    "      \n",
    "      \n",
    "        curU.updateRow(rowU)\n",
    "\n",
    "\n",
    "# replace the \"null\" values for the POP_SQMI field with -999\n",
    "fieldDb = ['POP_SQMI']  \n",
    "fieldDbCount = len(fieldDb)  \n",
    "\n",
    "with arcpy.da.UpdateCursor(path, fieldDb) as curU:  \n",
    "    for row in curU:  \n",
    "        rowU = row  \n",
    "        for field in range(fieldDbCount):  \n",
    "            if rowU[field] == None:  \n",
    "                rowU[field] = -999  \n",
    "      \n",
    "      \n",
    "        curU.updateRow(rowU)\n",
    "\n",
    "del curU\n"
   ]
  },
  {
   "cell_type": "code",
   "execution_count": null,
   "metadata": {},
   "outputs": [],
   "source": []
  }
 ],
 "metadata": {
  "kernelspec": {
   "display_name": "ArcGISPro",
   "language": "Python",
   "name": "python3"
  },
  "language_info": {
   "file_extension": ".py",
   "name": "python",
   "version": "3"
  }
 },
 "nbformat": 4,
 "nbformat_minor": 2
}
